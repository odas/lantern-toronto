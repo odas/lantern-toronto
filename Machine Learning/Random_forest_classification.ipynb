{
 "cells": [
  {
   "cell_type": "markdown",
   "metadata": {},
   "source": [
    "<p>https://medium.com/all-things-ai/in-depth-parameter-tuning-for-random-forest-d67bb7e920d </p>\n",
    "\n",
    "https://medium.com/@taplapinger/tuning-a-random-forest-classifier-1b252d1dde92\n",
    "\n",
    "https://towardsdatascience.com/random-forest-in-python-24d0893d51c0"
   ]
  },
  {
   "cell_type": "markdown",
   "metadata": {},
   "source": [
    "## Identifying Survivors from Titanic data using Random Forest Classification."
   ]
  },
  {
   "cell_type": "markdown",
   "metadata": {},
   "source": [
    "<p> A train.csv and test.csv dataset was provided.  </p>\n",
    "\n",
    "<p> Datasets were combined for data cleaning. Then separated out again for Machine Learning. </p>"
   ]
  },
  {
   "cell_type": "code",
   "execution_count": 1,
   "metadata": {},
   "outputs": [],
   "source": [
    "import pandas as pd\n",
    "import matplotlib.pyplot as plt\n",
    "import datetime \n",
    "import seaborn as sns\n",
    "import numpy as np"
   ]
  },
  {
   "cell_type": "code",
   "execution_count": 2,
   "metadata": {},
   "outputs": [
    {
     "name": "stderr",
     "output_type": "stream",
     "text": [
      "C:\\Users\\orpit\\Anaconda3\\lib\\site-packages\\ipykernel_launcher.py:3: FutureWarning: Sorting because non-concatenation axis is not aligned. A future version\n",
      "of pandas will change to not sort by default.\n",
      "\n",
      "To accept the future behavior, pass 'sort=False'.\n",
      "\n",
      "To retain the current behavior and silence the warning, pass 'sort=True'.\n",
      "\n",
      "  This is separate from the ipykernel package so we can avoid doing imports until\n"
     ]
    }
   ],
   "source": [
    "# Read in data\n",
    "data_train=pd.read_csv('titanic/train.csv')\n",
    "data_test=pd.read_csv('titanic/test.csv')\n",
    "\n",
    "# Combine datasets\n",
    "data=pd.concat([data_train,data_test], keys=['train','test'])"
   ]
  },
  {
   "cell_type": "code",
   "execution_count": 3,
   "metadata": {},
   "outputs": [
    {
     "name": "stdout",
     "output_type": "stream",
     "text": [
      "Summary\n",
      "\n",
      "Info\n",
      "\n",
      "<class 'pandas.core.frame.DataFrame'>\n",
      "MultiIndex: 1309 entries, (train, 0) to (test, 417)\n",
      "Data columns (total 12 columns):\n",
      "Age            1046 non-null float64\n",
      "Cabin          295 non-null object\n",
      "Embarked       1307 non-null object\n",
      "Fare           1308 non-null float64\n",
      "Name           1309 non-null object\n",
      "Parch          1309 non-null int64\n",
      "PassengerId    1309 non-null int64\n",
      "Pclass         1309 non-null int64\n",
      "Sex            1309 non-null object\n",
      "SibSp          1309 non-null int64\n",
      "Survived       891 non-null float64\n",
      "Ticket         1309 non-null object\n",
      "dtypes: float64(3), int64(4), object(5)\n",
      "memory usage: 133.6+ KB\n",
      "\n",
      "Nunique\n",
      "\n",
      "[('Age', 98), ('Cabin', 186), ('Embarked', 3), ('Fare', 281), ('Name', 1307), ('Parch', 8), ('PassengerId', 1309), ('Pclass', 3), ('Sex', 2), ('SibSp', 7), ('Survived', 2), ('Ticket', 929)]\n",
      "\n",
      "Describe\n",
      "\n",
      "               Age         Fare        Parch  PassengerId       Pclass  \\\n",
      "count  1046.000000  1308.000000  1309.000000  1309.000000  1309.000000   \n",
      "mean     29.881138    33.295479     0.385027   655.000000     2.294882   \n",
      "std      14.413493    51.758668     0.865560   378.020061     0.837836   \n",
      "min       0.170000     0.000000     0.000000     1.000000     1.000000   \n",
      "25%      21.000000     7.895800     0.000000   328.000000     2.000000   \n",
      "50%      28.000000    14.454200     0.000000   655.000000     3.000000   \n",
      "75%      39.000000    31.275000     0.000000   982.000000     3.000000   \n",
      "max      80.000000   512.329200     9.000000  1309.000000     3.000000   \n",
      "\n",
      "             SibSp    Survived  \n",
      "count  1309.000000  891.000000  \n",
      "mean      0.498854    0.383838  \n",
      "std       1.041658    0.486592  \n",
      "min       0.000000    0.000000  \n",
      "25%       0.000000    0.000000  \n",
      "50%       0.000000    0.000000  \n",
      "75%       1.000000    1.000000  \n",
      "max       8.000000    1.000000  \n"
     ]
    }
   ],
   "source": [
    "print('Summary\\n\\nInfo\\n')\n",
    "data.info()\n",
    "print('\\nNunique\\n')\n",
    "print([(col,data[col].nunique()) for col in data.columns])\n",
    "print('\\nDescribe\\n')\n",
    "print(data.describe())"
   ]
  },
  {
   "cell_type": "code",
   "execution_count": 4,
   "metadata": {},
   "outputs": [
    {
     "name": "stdout",
     "output_type": "stream",
     "text": [
      "1309 guests were assigned cabins. 187 cabins were available. 46 cabins were shared.\n"
     ]
    }
   ],
   "source": [
    "shared=data.groupby('Cabin').count()['Survived']\n",
    "print('{} guests were assigned cabins. {} cabins were available. {} cabins were shared.'\n",
    "      .format(len(data[data['Cabin']!='x']), len(data['Cabin'].unique()),len(shared[shared>1])))"
   ]
  },
  {
   "cell_type": "markdown",
   "metadata": {},
   "source": [
    "## Cleaning and Preprocessing"
   ]
  },
  {
   "cell_type": "markdown",
   "metadata": {},
   "source": [
    "<p> I decided to drop columns with 'PassengerId', 'Name', 'Ticket' number and 'Cabin' number as they will not add much to Random Forest Classification. </p>\n",
    "    \n",
    "<p> Null values in 'Age' column were filled with mean value of column. </p>\n",
    "\n",
    "<p> Rows with null values in the 'Embarked' column were dropped (As I assumed that these individuals didn't board the Titanic.) </p>"
   ]
  },
  {
   "cell_type": "code",
   "execution_count": 5,
   "metadata": {},
   "outputs": [],
   "source": [
    "# Drop columns and rows\n",
    "data.drop(['PassengerId', 'Name', 'Ticket', 'Cabin'], axis=1, inplace=True)\n",
    "data.drop(data[data['Embarked'].isnull()].index, axis=0, inplace=True)\n",
    "\n",
    "# Age mean replaces null values in the column\n",
    "data['Age'] = data['Age'].fillna(data['Age'].mean())\n",
    "\n",
    "# 'Sex' column categorical data is converted to 0 and 1 values\n",
    "data['Sex']=data['Sex'].map({'male': 0, 'female': 1})\n",
    "\n",
    "# Label Encoder is applied to 'Embarked'\n",
    "data['Embarked']=data['Embarked'].map({'S': 0, 'C': 1, 'Q':2})"
   ]
  },
  {
   "cell_type": "code",
   "execution_count": 7,
   "metadata": {},
   "outputs": [
    {
     "name": "stdout",
     "output_type": "stream",
     "text": [
      "Summary\n",
      "\n",
      "Info\n",
      "\n",
      "<class 'pandas.core.frame.DataFrame'>\n",
      "MultiIndex: 1307 entries, (train, 0) to (test, 417)\n",
      "Data columns (total 8 columns):\n",
      "Age         1307 non-null float64\n",
      "Embarked    1307 non-null int64\n",
      "Fare        1306 non-null float64\n",
      "Parch       1307 non-null int64\n",
      "Pclass      1307 non-null int64\n",
      "Sex         1307 non-null int64\n",
      "SibSp       1307 non-null int64\n",
      "Survived    889 non-null float64\n",
      "dtypes: float64(3), int64(5)\n",
      "memory usage: 92.5+ KB\n",
      "\n",
      "Describe\n",
      "\n",
      "               Age     Embarked         Fare        Parch       Pclass  \\\n",
      "count  1307.000000  1307.000000  1306.000000  1307.000000  1307.000000   \n",
      "mean     29.842596     0.394797    33.223956     0.385616     2.296863   \n",
      "std      12.860376     0.653817    51.765986     0.866092     0.836942   \n",
      "min       0.170000     0.000000     0.000000     0.000000     1.000000   \n",
      "25%      22.000000     0.000000     7.895800     0.000000     2.000000   \n",
      "50%      29.842596     0.000000    14.454200     0.000000     3.000000   \n",
      "75%      35.000000     1.000000    31.275000     0.000000     3.000000   \n",
      "max      80.000000     2.000000   512.329200     9.000000     3.000000   \n",
      "\n",
      "               Sex        SibSp    Survived  \n",
      "count  1307.000000  1307.000000  889.000000  \n",
      "mean      0.355011     0.499617    0.382452  \n",
      "std       0.478700     1.042273    0.486260  \n",
      "min       0.000000     0.000000    0.000000  \n",
      "25%       0.000000     0.000000    0.000000  \n",
      "50%       0.000000     0.000000    0.000000  \n",
      "75%       1.000000     1.000000    1.000000  \n",
      "max       1.000000     8.000000    1.000000  \n",
      "\n",
      "Nunique\n",
      "\n",
      "[('Age', 99), ('Embarked', 3), ('Fare', 280), ('Parch', 8), ('Pclass', 3), ('Sex', 2), ('SibSp', 7), ('Survived', 2)]\n",
      "\n",
      "Unique\n",
      "\n",
      "[('Age', array([22.        , 38.        , 26.        , 35.        , 29.84259579,\n",
      "       54.        ,  2.        , 27.        , 14.        ,  4.        ,\n",
      "       58.        , 20.        , 39.        , 55.        , 31.        ,\n",
      "       34.        , 15.        , 28.        ,  8.        , 19.        ,\n",
      "       40.        , 66.        , 42.        , 21.        , 18.        ,\n",
      "        3.        ,  7.        , 49.        , 29.        , 65.        ,\n",
      "       28.5       ,  5.        , 11.        , 45.        , 17.        ,\n",
      "       32.        , 16.        , 25.        ,  0.83      , 30.        ,\n",
      "       33.        , 23.        , 24.        , 46.        , 59.        ,\n",
      "       71.        , 37.        , 47.        , 14.5       , 70.5       ,\n",
      "       32.5       , 12.        ,  9.        , 36.5       , 51.        ,\n",
      "       55.5       , 40.5       , 44.        ,  1.        , 61.        ,\n",
      "       56.        , 50.        , 36.        , 45.5       , 20.5       ,\n",
      "       62.        , 41.        , 52.        , 63.        , 23.5       ,\n",
      "        0.92      , 43.        , 60.        , 10.        , 64.        ,\n",
      "       13.        , 48.        ,  0.75      , 53.        , 57.        ,\n",
      "       80.        , 70.        , 24.5       ,  6.        ,  0.67      ,\n",
      "       30.5       ,  0.42      , 34.5       , 74.        , 22.5       ,\n",
      "       18.5       , 67.        , 76.        , 26.5       , 60.5       ,\n",
      "       11.5       ,  0.33      ,  0.17      , 38.5       ])), ('Embarked', array([0, 1, 2], dtype=int64)), ('Fare', array([  7.25  ,  71.2833,   7.925 ,  53.1   ,   8.05  ,   8.4583,\n",
      "        51.8625,  21.075 ,  11.1333,  30.0708,  16.7   ,  26.55  ,\n",
      "        31.275 ,   7.8542,  16.    ,  29.125 ,  13.    ,  18.    ,\n",
      "         7.225 ,  26.    ,   8.0292,  35.5   ,  31.3875, 263.    ,\n",
      "         7.8792,   7.8958,  27.7208, 146.5208,   7.75  ,  10.5   ,\n",
      "        82.1708,  52.    ,   7.2292,  11.2417,   9.475 ,  21.    ,\n",
      "        41.5792,  15.5   ,  21.6792,  17.8   ,  39.6875,   7.8   ,\n",
      "        76.7292,  61.9792,  27.75  ,  46.9   ,  83.475 ,  27.9   ,\n",
      "        15.2458,   8.1583,   8.6625,  73.5   ,  14.4542,  56.4958,\n",
      "         7.65  ,  29.    ,  12.475 ,   9.    ,   9.5   ,   7.7875,\n",
      "        47.1   ,  15.85  ,  34.375 ,  61.175 ,  20.575 ,  34.6542,\n",
      "        63.3583,  23.    ,  77.2875,   8.6542,   7.775 ,  24.15  ,\n",
      "         9.825 ,  14.4583, 247.5208,   7.1417,  22.3583,   6.975 ,\n",
      "         7.05  ,  14.5   ,  15.0458,  26.2833,   9.2167,  79.2   ,\n",
      "         6.75  ,  11.5   ,  36.75  ,   7.7958,  12.525 ,  66.6   ,\n",
      "         7.3125,  61.3792,   7.7333,  69.55  ,  16.1   ,  15.75  ,\n",
      "        20.525 ,  55.    ,  25.925 ,  33.5   ,  30.6958,  25.4667,\n",
      "        28.7125,   0.    ,  15.05  ,  39.    ,  22.025 ,  50.    ,\n",
      "         8.4042,   6.4958,  10.4625,  18.7875,  31.    , 113.275 ,\n",
      "        27.    ,  76.2917,  90.    ,   9.35  ,  13.5   ,   7.55  ,\n",
      "        26.25  ,  12.275 ,   7.125 ,  52.5542,  20.2125,  86.5   ,\n",
      "       512.3292,  79.65  , 153.4625, 135.6333,  19.5   ,  29.7   ,\n",
      "        77.9583,  20.25  ,  78.85  ,  91.0792,  12.875 ,   8.85  ,\n",
      "       151.55  ,  30.5   ,  23.25  ,  12.35  , 110.8833, 108.9   ,\n",
      "        24.    ,  56.9292,  83.1583, 262.375 ,  14.    , 164.8667,\n",
      "       134.5   ,   6.2375,  57.9792,  28.5   , 133.65  ,  15.9   ,\n",
      "         9.225 ,  35.    ,  75.25  ,  69.3   ,  55.4417, 211.5   ,\n",
      "         4.0125, 227.525 ,  15.7417,   7.7292,  12.    , 120.    ,\n",
      "        12.65  ,  18.75  ,   6.8583,  32.5   ,   7.875 ,  14.4   ,\n",
      "        55.9   ,   8.1125,  81.8583,  19.2583,  19.9667,  89.1042,\n",
      "        38.5   ,   7.725 ,  13.7917,   9.8375,   7.0458,   7.5208,\n",
      "        12.2875,   9.5875,  49.5042,  78.2667,  15.1   ,   7.6292,\n",
      "        22.525 ,  26.2875,  59.4   ,   7.4958,  34.0208,  93.5   ,\n",
      "       221.7792, 106.425 ,  49.5   ,  71.    ,  13.8625,   7.8292,\n",
      "        39.6   ,  17.4   ,  51.4792,  26.3875,  30.    ,  40.125 ,\n",
      "         8.7125,  15.    ,  33.    ,  42.4   ,  15.55  ,  65.    ,\n",
      "        32.3208,   7.0542,   8.4333,  25.5875,   9.8417,   8.1375,\n",
      "        10.1708, 211.3375,  57.    ,  13.4167,   7.7417,   9.4833,\n",
      "         7.7375,   8.3625,  23.45  ,  25.9292,   8.6833,   8.5167,\n",
      "         7.8875,  37.0042,   6.45  ,   6.95  ,   8.3   ,   6.4375,\n",
      "        39.4   ,  14.1083,  13.8583,  50.4958,   5.    ,   9.8458,\n",
      "        10.5167,   7.    ,   9.6875,  82.2667,   3.1708,  31.6833,\n",
      "        31.5   ,  57.75  ,   7.85  ,  60.    ,  15.0333,  15.5792,\n",
      "        28.5375,  25.7   ,  10.7083,  13.9   ,   7.8208,   7.7792,\n",
      "        31.6792,   7.2833,  75.2417,      nan,  12.1833,  13.775 ,\n",
      "         8.9625,  25.7417,  42.5   ,  27.4458, 136.7792,   9.325 ,\n",
      "        12.7375,  45.5   ,   7.575 ,   7.5792,   7.7208])), ('Parch', array([0, 1, 2, 5, 3, 4, 6, 9], dtype=int64)), ('Pclass', array([3, 1, 2], dtype=int64)), ('Sex', array([0, 1], dtype=int64)), ('SibSp', array([1, 0, 3, 4, 2, 5, 8], dtype=int64)), ('Survived', array([ 0.,  1., nan]))]\n"
     ]
    }
   ],
   "source": [
    "print('Summary\\n\\nInfo\\n')\n",
    "data.info()\n",
    "print('\\nDescribe\\n')\n",
    "print(data.describe())\n",
    "print('\\nNunique\\n')\n",
    "print([(col,data[col].nunique()) for col in data.columns])\n",
    "print('\\nUnique\\n')\n",
    "print([(col,data[col].unique()) for col in data.columns])"
   ]
  },
  {
   "cell_type": "code",
   "execution_count": 8,
   "metadata": {},
   "outputs": [],
   "source": [
    "# Separate out test and train datasets again. \n",
    "data_train=data.loc[['train',]]\n",
    "data_test=data.loc[['test',]]"
   ]
  },
  {
   "cell_type": "markdown",
   "metadata": {},
   "source": [
    "<p> train.csv data is split into a test and train dataset to indentify optimal parameters for Machine Learning. (In the final piece of code optimal Random Forest was used to predict 'Survivors' in the test.csv dataset.)</p>"
   ]
  },
  {
   "cell_type": "code",
   "execution_count": 9,
   "metadata": {},
   "outputs": [
    {
     "data": {
      "text/plain": [
       "RandomForestRegressor(bootstrap=True, criterion='mse', max_depth=None,\n",
       "           max_features='auto', max_leaf_nodes=None,\n",
       "           min_impurity_decrease=0.0, min_impurity_split=None,\n",
       "           min_samples_leaf=1, min_samples_split=2,\n",
       "           min_weight_fraction_leaf=0.0, n_estimators=1000, n_jobs=None,\n",
       "           oob_score=False, random_state=42, verbose=0, warm_start=False)"
      ]
     },
     "execution_count": 9,
     "metadata": {},
     "output_type": "execute_result"
    }
   ],
   "source": [
    "# Separate predictors (features) and target (labels)\n",
    "data_train_features=data_train[['Age', 'Embarked','Fare', 'Parch','Pclass','Sex','SibSp']]\n",
    "data_train_label=data_train['Survived']\n",
    "\n",
    "# Split train.csv data into test and train. \n",
    "from sklearn.model_selection import train_test_split\n",
    "X_train, X_test, y_train, y_test = train_test_split(data_train_features, data_train_label, test_size=0.3)\n",
    "\n",
    "# Import the model we are using\n",
    "from sklearn.ensemble import RandomForestRegressor\n",
    "\n",
    "# Instantiate model with 1000 decision trees\n",
    "rf = RandomForestRegressor(n_estimators = 1000, random_state = 42)\n",
    "\n",
    "# Train the model on training data\n",
    "rf.fit(X_train, y_train)"
   ]
  },
  {
   "cell_type": "code",
   "execution_count": 10,
   "metadata": {},
   "outputs": [],
   "source": [
    "# Use the forest's predict method on the test data\n",
    "y_pred = rf.predict(X_test)"
   ]
  },
  {
   "cell_type": "code",
   "execution_count": 11,
   "metadata": {},
   "outputs": [
    {
     "data": {
      "text/plain": [
       "Text(0, 0.5, 'Predicted \"Survived\" status')"
      ]
     },
     "execution_count": 11,
     "metadata": {},
     "output_type": "execute_result"
    },
    {
     "data": {
      "image/png": "[encoded data removed]",
      "text/plain": [
       "<Figure size 432x288 with 1 Axes>"
      ]
     },
     "metadata": {
      "needs_background": "light"
     },
     "output_type": "display_data"
    }
   ],
   "source": [
    "# Observe prediction on a plot. \n",
    "plt.plot(range(len(y_pred)),y_pred)\n",
    "plt.xlabel('Passenger ID in test.csv')\n",
    "plt.ylabel('Predicted \"Survived\" status')"
   ]
  },
  {
   "cell_type": "code",
   "execution_count": 14,
   "metadata": {},
   "outputs": [
    {
     "name": "stdout",
     "output_type": "stream",
     "text": [
      "Accuracy: 0.81\n",
      "Misclassified samples: 50\n"
     ]
    }
   ],
   "source": [
    "# Rounding predicted values of y_pred to get an estimate of test accuracy. \n",
    "\n",
    "from sklearn.metrics import accuracy_score\n",
    "print('Accuracy: %.2f' % accuracy_score(y_test, np.round(y_pred)))\n",
    "print('Misclassified samples: %d' % (y_test != np.round(y_pred)).sum())"
   ]
  },
  {
   "cell_type": "code",
   "execution_count": 15,
   "metadata": {},
   "outputs": [
    {
     "data": {
      "text/plain": [
       "Text(0, 0.5, 'Feature Importance')"
      ]
     },
     "execution_count": 15,
     "metadata": {},
     "output_type": "execute_result"
    },
    {
     "data": {
      "image/png": "[encoded data removed]",
      "text/plain": [
       "<Figure size 432x288 with 1 Axes>"
      ]
     },
     "metadata": {
      "needs_background": "light"
     },
     "output_type": "display_data"
    }
   ],
   "source": [
    "# Observing which features contribute most to \"Survival\" status. \n",
    "plt.bar(data_train_features.columns, rf.feature_importances_)\n",
    "plt.ylim(0,1)\n",
    "plt.xlabel('Features')\n",
    "plt.ylabel('Feature Importance')"
   ]
  },
  {
   "cell_type": "code",
   "execution_count": 30,
   "metadata": {},
   "outputs": [
    {
     "name": "stdout",
     "output_type": "stream",
     "text": [
      "Sex\n",
      "0    577\n",
      "1    312\n",
      "Name: Survived, dtype: int64\n"
     ]
    }
   ],
   "source": [
    "print(data_train.groupby(['Sex']).count()['Survived'])"
   ]
  },
  {
   "cell_type": "code",
   "execution_count": 41,
   "metadata": {},
   "outputs": [
    {
     "data": {
      "text/plain": [
       "<matplotlib.collections.PathCollection at 0x166f04996d8>"
      ]
     },
     "execution_count": 41,
     "metadata": {},
     "output_type": "execute_result"
    },
    {
     "data": {
      "image/png": "[encoded data removed]",
      "text/plain": [
       "<Figure size 432x288 with 1 Axes>"
      ]
     },
     "metadata": {
      "needs_background": "light"
     },
     "output_type": "display_data"
    }
   ],
   "source": [
    "plt.scatter(data_train['Age'], data_train['Survived'])"
   ]
  },
  {
   "cell_type": "markdown",
   "metadata": {},
   "source": [
    "<p>'Sex' plays the largest role in determining 'Survival' status. </p>\n",
    "<p>'Age' and 'Fare' paid follow closely in importance. </p>"
   ]
  },
  {
   "cell_type": "code",
   "execution_count": null,
   "metadata": {},
   "outputs": [],
   "source": [
    "# Extract single tree\n",
    "estimator = rf.estimators_[5]\n",
    "\n",
    "from sklearn.externals.six import StringIO  \n",
    "from IPython.display import Image  \n",
    "import pydotplus\n",
    "dot_data = StringIO()\n",
    "\n",
    "from sklearn.tree import export_graphviz\n",
    "import pydotplus\n",
    "# Export as dot file\n",
    "export_graphviz(estimator, out_file=dot_data, \n",
    "                feature_names = data_train_features.columns,\n",
    "                class_names = ['Survived'],\n",
    "                rounded = True, proportion = False, \n",
    "                precision = 2, filled = True)\n",
    "\n",
    "graph = pydotplus.graph_from_dot_data(dot_data.getvalue())  \n",
    "Image(graph.create_png())"
   ]
  },
  {
   "cell_type": "code",
   "execution_count": null,
   "metadata": {
    "scrolled": true
   },
   "outputs": [],
   "source": [
    "from sklearn.metrics import roc_curve, auc\n",
    "false_positive_rate, true_positive_rate, thresholds = roc_curve(y_test, y_pred)\n",
    "roc_auc = auc(false_positive_rate, true_positive_rate)\n",
    "roc_auc"
   ]
  },
  {
   "cell_type": "code",
   "execution_count": null,
   "metadata": {},
   "outputs": [],
   "source": [
    "# plot the roc curve for the model\n",
    "plt.plot(false_positive_rate, true_positive_rate, linestyle='--')\n",
    "# axis labels\n",
    "plt.xlabel('False Positive Rate')\n",
    "plt.ylabel('True Positive Rate')"
   ]
  },
  {
   "cell_type": "code",
   "execution_count": null,
   "metadata": {},
   "outputs": [],
   "source": [
    "n_estimators = [1, 2, 4, 8, 16, 32, 64, 100, 200]\n",
    "train_results = []\n",
    "test_results = []\n",
    "for estimator in n_estimators:\n",
    "   rf = RandomForestClassifier(n_estimators=estimator, n_jobs=-1)\n",
    "   rf.fit(X_train, y_train)\n",
    "   train_pred = rf.predict(X_train)\n",
    "   false_positive_rate, true_positive_rate, thresholds = roc_curve(y_train, train_pred)\n",
    "   roc_auc = auc(false_positive_rate, true_positive_rate)\n",
    "   train_results.append(roc_auc)\n",
    "   y_pred = rf.predict(X_test)\n",
    "   false_positive_rate, true_positive_rate, thresholds = roc_curve(y_test, y_pred)\n",
    "   roc_auc = auc(false_positive_rate, true_positive_rate)\n",
    "   test_results.append(roc_auc)\n",
    "from matplotlib.legend_handler import HandlerLine2D\n",
    "line1, = plt.plot(n_estimators, train_results, 'b', label=\"Train AUC\")\n",
    "line2, = plt.plot(n_estimators, test_results, 'r', label=\"Test AUC\")\n",
    "plt.legend(handler_map={line1: HandlerLine2D(numpoints=2)})\n",
    "plt.ylabel(\"AUC score\")\n",
    "plt.xlabel(\"n_estimators\")"
   ]
  },
  {
   "cell_type": "markdown",
   "metadata": {},
   "source": [
    "<p>We can stop at 32 trees as increasing the number of trees decreases the test performance.</p>"
   ]
  },
  {
   "cell_type": "code",
   "execution_count": null,
   "metadata": {},
   "outputs": [],
   "source": [
    "max_depths = np.linspace(1, 32, 32, endpoint=True)\n",
    "train_results = []\n",
    "test_results = []\n",
    "for max_depth in max_depths:\n",
    "   rf = RandomForestClassifier(max_depth=max_depth, n_jobs=-1, n_estimators=32)\n",
    "   rf.fit(X_train, y_train)\n",
    "   train_pred = rf.predict(X_train)\n",
    "   false_positive_rate, true_positive_rate, thresholds = roc_curve(y_train, train_pred)\n",
    "   roc_auc = auc(false_positive_rate, true_positive_rate)\n",
    "   train_results.append(roc_auc)\n",
    "   y_pred = rf.predict(X_test)\n",
    "   false_positive_rate, true_positive_rate, thresholds = roc_curve(y_test, y_pred)\n",
    "   roc_auc = auc(false_positive_rate, true_positive_rate)\n",
    "   test_results.append(roc_auc)\n",
    "from matplotlib.legend_handler import HandlerLine2D\n",
    "line1, = plt.plot(max_depths, train_results, 'b', label=\"Train AUC\")\n",
    "line2, = plt.plot(max_depths, test_results, 'r', label=\"Test AUC\")\n",
    "plt.legend(handler_map={line1: HandlerLine2D(numpoints=2)})\n",
    "plt.ylabel('AUC score')\n",
    "plt.xlabel('Tree depth')\n",
    "plt.show()"
   ]
  },
  {
   "cell_type": "code",
   "execution_count": null,
   "metadata": {},
   "outputs": [],
   "source": [
    "min_samples_splits = np.linspace(0.1, 1.0, 10, endpoint=True)\n",
    "train_results = []\n",
    "test_results = []\n",
    "for min_samples_split in min_samples_splits:\n",
    "   rf = RandomForestClassifier(min_samples_split=min_samples_split, n_estimators=32)\n",
    "   rf.fit(X_train, y_train)\n",
    "   train_pred = rf.predict(X_train)\n",
    "   false_positive_rate, true_positive_rate, thresholds = roc_curve(y_train, train_pred)\n",
    "   roc_auc = auc(false_positive_rate, true_positive_rate)\n",
    "   train_results.append(roc_auc)\n",
    "   y_pred = rf.predict(X_test)\n",
    "   false_positive_rate, true_positive_rate, thresholds = roc_curve(y_test, y_pred)\n",
    "   roc_auc = auc(false_positive_rate, true_positive_rate)\n",
    "   test_results.append(roc_auc)\n",
    "from matplotlib.legend_handler import HandlerLine2D\n",
    "line1, = plt.plot(min_samples_splits, train_results, 'b', label=\"Train AUC\")\n",
    "line2, = plt.plot(min_samples_splits, test_results, \"r\", label=\"Test AUC\")\n",
    "plt.legend(handler_map={line1: HandlerLine2D(numpoints=2)})\n",
    "plt.ylabel(\"AUC score\")\n",
    "plt.xlabel(\"min samples split\")\n",
    "plt.show()"
   ]
  },
  {
   "cell_type": "code",
   "execution_count": null,
   "metadata": {},
   "outputs": [],
   "source": [
    "min_samples_leafs = np.linspace(0.1, 0.5, 5, endpoint=True)\n",
    "train_results = []\n",
    "test_results = []\n",
    "for min_samples_leaf in min_samples_leafs:\n",
    "   rf = RandomForestClassifier(min_samples_leaf=min_samples_leaf, n_estimators=32)\n",
    "   rf.fit(X_train, y_train)\n",
    "   train_pred = rf.predict(X_train)\n",
    "   false_positive_rate, true_positive_rate, thresholds = roc_curve(y_train, train_pred)\n",
    "   roc_auc = auc(false_positive_rate, true_positive_rate)\n",
    "   train_results.append(roc_auc)\n",
    "   y_pred = rf.predict(X_test)\n",
    "   false_positive_rate, true_positive_rate, thresholds = roc_curve(y_test, y_pred)\n",
    "   roc_auc = auc(false_positive_rate, true_positive_rate)\n",
    "   test_results.append(roc_auc)\n",
    "from matplotlib.legend_handler import HandlerLine2D\n",
    "line1, = plt.plot(min_samples_leafs, train_results, 'b', label=\"Train AUC\")\n",
    "line2, = plt.plot(min_samples_leafs, test_results, \"r\", label=\"Test AUC\")\n",
    "plt.legend(handler_map={line1: HandlerLine2D(numpoints=2)})\n",
    "plt.ylabel(\"AUC score\")\n",
    "plt.xlabel(\"min samples leaf\")\n",
    "plt.show()"
   ]
  },
  {
   "cell_type": "code",
   "execution_count": null,
   "metadata": {},
   "outputs": [],
   "source": [
    "max_features = list(range(1,data_train_features.shape[1]))\n",
    "train_results = []\n",
    "test_results = []\n",
    "for max_feature in max_features:\n",
    "   rf = RandomForestClassifier(max_features=max_feature, n_estimators=32)\n",
    "   rf.fit(X_train, y_train)\n",
    "   train_pred = rf.predict(X_train)\n",
    "   false_positive_rate, true_positive_rate, thresholds = roc_curve(y_train, train_pred)\n",
    "   roc_auc = auc(false_positive_rate, true_positive_rate)\n",
    "   train_results.append(roc_auc)\n",
    "   y_pred = rf.predict(X_test)\n",
    "   false_positive_rate, true_positive_rate, thresholds = roc_curve(y_test, y_pred)\n",
    "   roc_auc = auc(false_positive_rate, true_positive_rate)\n",
    "   test_results.append(roc_auc)\n",
    "from matplotlib.legend_handler import HandlerLine2D\n",
    "line1, = plt.plot(max_features, train_results, 'b', label='Train AUC')\n",
    "line2, = plt.plot(max_features, test_results, 'r', label='Test AUC')\n",
    "plt.legend(handler_map={line1: HandlerLine2D(numpoints=2)})\n",
    "plt.ylabel('AUC score')\n",
    "plt.xlabel('max features')\n",
    "plt.show()"
   ]
  }
 ],
 "metadata": {
  "kernelspec": {
   "display_name": "Python 3",
   "language": "python",
   "name": "python3"
  },
  "language_info": {
   "codemirror_mode": {
    "name": "ipython",
    "version": 3
   },
   "file_extension": ".py",
   "mimetype": "text/x-python",
   "name": "python",
   "nbconvert_exporter": "python",
   "pygments_lexer": "ipython3",
   "version": "3.7.4"
  },
  "toc": {
   "base_numbering": 1,
   "nav_menu": {},
   "number_sections": true,
   "sideBar": true,
   "skip_h1_title": false,
   "title_cell": "Table of Contents",
   "title_sidebar": "Contents",
   "toc_cell": false,
   "toc_position": {},
   "toc_section_display": true,
   "toc_window_display": false
  }
 },
 "nbformat": 4,
 "nbformat_minor": 2
}
