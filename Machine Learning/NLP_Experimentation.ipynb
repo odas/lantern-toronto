{
 "cells": [
  {
   "cell_type": "code",
   "execution_count": 1,
   "metadata": {},
   "outputs": [],
   "source": [
    "import pandas as pd\n",
    "import numpy as np\n",
    "from nltk.tokenize import word_tokenize\n",
    "from nltk import pos_tag\n",
    "from nltk.corpus import stopwords\n",
    "from nltk.stem import WordNetLemmatizer\n",
    "from sklearn.preprocessing import LabelEncoder\n",
    "from collections import defaultdict\n",
    "from nltk.corpus import wordnet as wn\n",
    "from sklearn.feature_extraction.text import TfidfVectorizer\n",
    "from sklearn import model_selection, naive_bayes, svm\n",
    "from sklearn.metrics import accuracy_score\n",
    "import matplotlib.pyplot as plt"
   ]
  },
  {
   "cell_type": "code",
   "execution_count": 2,
   "metadata": {},
   "outputs": [],
   "source": [
    "np.random.seed(500)"
   ]
  },
  {
   "cell_type": "code",
   "execution_count": 3,
   "metadata": {},
   "outputs": [],
   "source": [
    "#Corpus = pd.read_csv(\"corpus.csv\",encoding='latin-1')\n",
    "Corpus_full = pd.read_csv(\"corpus.csv\",encoding='latin-1')\n",
    "Corpus=Corpus_full.iloc[:1000,]"
   ]
  },
  {
   "cell_type": "markdown",
   "metadata": {},
   "source": [
    "##### STEP -4: Data pre-processing\n",
    "This is an important step in any data mining process. \n",
    "This basically involves transforming raw data into an understandable format for NLP models. Real-world data is often incomplete, inconsistent, and/or lacking in certain behaviors or trends, and is likely to contain many errors. Data pre-processing is a proven method of resolving such issues.This will help in getting better results through the classification algorithms.\n",
    "\n",
    "Below, I have explained the two techniques that are also performed besides other easy to understand steps in data pre-processing:\n",
    "\n",
    "######  Tokenization: \n",
    "\n",
    "\n",
    "This is a process of breaking a stream of text up into words, phrases, symbols, or other meaningful elements called tokens. The list of tokens becomes input for further processing. NLTK Library has word_tokenize and sent_tokenize to easily break a stream of text into a list of words or sentences, respectively.\n",
    "\n",
    "\n",
    "###### Word Stemming/Lemmatization: \n",
    "\n",
    "\n",
    "The aim of both processes is the same, reducing the inflectional forms of each word into a common base or root. Lemmatization is closely related to stemming. The difference is that a stemmer operates on a single word without knowledge of the context, and therefore cannot discriminate between words which have different meanings depending on part of speech. However, stemmers are typically easier to implement and run faster, and the reduced accuracy may not matter for some applications.\n",
    "\n",
    "\n",
    "Here’s the complete script which performs the aforementioned data pre-processing steps, you can always add or remove steps which best suits the data set you are dealing with:\n",
    "\n",
    "* Remove Blank rows in Data, if any\n",
    "* Change all the text to lower case\n",
    "* Word Tokenization\n",
    "* Remove Stop words\n",
    "* Remove Non-alpha text\n",
    "* Word Lemmatization\n"
   ]
  },
  {
   "cell_type": "code",
   "execution_count": 4,
   "metadata": {},
   "outputs": [
    {
     "name": "stdout",
     "output_type": "stream",
     "text": [
      "text     False\n",
      "label    False\n",
      "dtype: bool\n"
     ]
    },
    {
     "name": "stderr",
     "output_type": "stream",
     "text": [
      "C:\\Users\\orpit\\Anaconda3\\envs\\tensorflow_env\\lib\\site-packages\\ipykernel_launcher.py:5: SettingWithCopyWarning: \n",
      "A value is trying to be set on a copy of a slice from a DataFrame.\n",
      "Try using .loc[row_indexer,col_indexer] = value instead\n",
      "\n",
      "See the caveats in the documentation: http://pandas.pydata.org/pandas-docs/stable/user_guide/indexing.html#returning-a-view-versus-a-copy\n",
      "  \"\"\"\n",
      "C:\\Users\\orpit\\Anaconda3\\envs\\tensorflow_env\\lib\\site-packages\\ipykernel_launcher.py:8: SettingWithCopyWarning: \n",
      "A value is trying to be set on a copy of a slice from a DataFrame.\n",
      "Try using .loc[row_indexer,col_indexer] = value instead\n",
      "\n",
      "See the caveats in the documentation: http://pandas.pydata.org/pandas-docs/stable/user_guide/indexing.html#returning-a-view-versus-a-copy\n",
      "  \n",
      "C:\\Users\\orpit\\Anaconda3\\envs\\tensorflow_env\\lib\\site-packages\\IPython\\core\\interactiveshell.py:3319: SettingWithCopyWarning: \n",
      "A value is trying to be set on a copy of a slice from a DataFrame\n",
      "\n",
      "See the caveats in the documentation: http://pandas.pydata.org/pandas-docs/stable/user_guide/indexing.html#returning-a-view-versus-a-copy\n",
      "  exec(code_obj, self.user_global_ns, self.user_ns)\n"
     ]
    }
   ],
   "source": [
    "# Step - a : Remove blank rows if any.\n",
    "print(Corpus.isnull().any()) # gives False. \n",
    "\n",
    "# Step - b : Change all the text to lower case. This is required as python interprets 'dog' and 'DOG' differently\n",
    "Corpus['text_lower']=[doc.lower() for doc in Corpus.text]\n",
    "\n",
    "# Step - c : Tokenization : In this each entry in the corpus will be broken into set of words\n",
    "Corpus['text_final']=[word_tokenize(doc) for doc in Corpus.text_lower]\n",
    "\n",
    "# Step - d : Remove Stop words, Non-Numeric and perfom Word Stemming/Lemmenting.\n",
    "# WordNetLemmatizer requires Pos tags to understand if the word is noun or verb or adjective etc. By default it is set to Noun\n",
    "lemmatizer = WordNetLemmatizer()\n",
    "def nltk_tag_to_wordnet_tag(nltk_tag):\n",
    "    if nltk_tag.startswith('J'):\n",
    "        return wn.ADJ\n",
    "    elif nltk_tag.startswith('V'):\n",
    "        return wn.VERB\n",
    "    elif nltk_tag.startswith('N'):\n",
    "        return wn.NOUN\n",
    "    elif nltk_tag.startswith('R'):\n",
    "        return wn.ADV\n",
    "    else:          \n",
    "        return wn.NOUN\n",
    "for i in range(len(Corpus.text_final)):\n",
    "    Corpus.text_final[i]=[t for t in Corpus.text_final[i] if t.isalpha() and t not in stopwords.words('english')]\n",
    "    Corpus.text_final[i]=[lemmatizer.lemmatize(word, nltk_tag_to_wordnet_tag(tag)) for word,tag in pos_tag(Corpus.text_final[i])]\n",
    "    Corpus.text_final[i]=str(Corpus.text_final[i])"
   ]
  },
  {
   "cell_type": "markdown",
   "metadata": {},
   "source": [
    "##### Prepare Test/ Train/ Datasets"
   ]
  },
  {
   "cell_type": "code",
   "execution_count": 5,
   "metadata": {},
   "outputs": [],
   "source": [
    "X=Corpus['text_final']\n",
    "y=Corpus['label']\n",
    "X_train, X_test, y_train, y_test = model_selection.train_test_split(X,y,test_size=0.3, stratify=y)"
   ]
  },
  {
   "cell_type": "markdown",
   "metadata": {},
   "source": [
    "##### STEP -6: Encoding\n",
    "Label encode the target variable — This is done to transform Categorical data of string type in the data set into numerical values which the model can understand."
   ]
  },
  {
   "cell_type": "code",
   "execution_count": 6,
   "metadata": {},
   "outputs": [],
   "source": [
    "Encoder = LabelEncoder()\n",
    "y_train = Encoder.fit_transform(y_train)\n",
    "y_test = Encoder.transform(y_test)"
   ]
  },
  {
   "cell_type": "code",
   "execution_count": 7,
   "metadata": {},
   "outputs": [],
   "source": [
    "Tfidf_vect = TfidfVectorizer(max_features=5000)\n",
    "Tfidf_vect.fit(X)\n",
    "Train_X_Tfidf = Tfidf_vect.transform(X_train)\n",
    "Test_X_Tfidf = Tfidf_vect.transform(X_test)"
   ]
  },
  {
   "cell_type": "code",
   "execution_count": 115,
   "metadata": {},
   "outputs": [
    {
     "name": "stdout",
     "output_type": "stream",
     "text": [
      "{'stun': 3985, 'even': 1518, 'sound': 3796, 'track': 4369, 'beautiful': 344, 'paint': 2627, 'senery': 3513, 'mind': 2430, 'well': 4824, 'would': 4931, 'recomend': 3102, 'people': 2668, 'hate': 1932, 'video': 4688, 'game': 1830, 'music': 2483, 'play': 2717, 'chrono': 579, 'cross': 849, 'ever': 1523, 'best': 388, 'back': 292, 'away': 282, 'crude': 854, 'take': 4121, 'fresh': 1807, 'step': 3911, 'grate': 1886, 'guitar': 1902, 'soulful': 3792, 'impress': 2059, 'anyone': 123, 'care': 513, 'listen': 2294, 'soundtrack': 3797, 'anything': 124, 'reading': 3061, 'lot': 2323, 'review': 3271, 'say': 3422, 'figure': 1729, 'write': 4943, 'disagree': 1116, 'bit': 402, 'yasunori': 4965, 'mitsuda': 2443, 'ultimate': 4481, 'masterpiece': 2385, 'timeless': 4304, 'year': 4969, 'beauty': 347, 'simply': 3650, 'refuse': 3134, 'price': 2857, 'tag': 4120, 'pretty': 2853, 'stagger': 3869, 'must': 2488, 'go': 1863, 'buy': 485, 'cd': 532, 'much': 2474, 'money': 2452, 'one': 2577, 'feel': 1716, 'worth': 4926, 'every': 1525, 'penny': 2667, 'amaze': 96, 'favorite': 1698, 'time': 4303, 'hand': 1913, 'sadness': 3372, 'prisoner': 2873, 'fate': 1693, 'mean': 2394, 'played': 2719, 'hope': 1996, 'distant': 1183, 'promise': 2910, 'girl': 1854, 'stole': 3931, 'star': 3879, 'important': 2056, 'inspiration': 2091, 'personally': 2683, 'throughout': 4278, 'teen': 4165, 'higher': 1964, 'energy': 1435, 'like': 2281, 'dreamwatch': 1266, 'chronomantique': 580, 'remeniscent': 3185, 'trigger': 4419, 'absolutely': 9, 'superb': 4037, 'probably': 2880, 'composer': 666, 'work': 4910, 'heard': 1942, 'xenogears': 4953, 'ca': 489, 'sure': 4058, 'never': 2521, 'twice': 4461, 'wish': 4877, 'could': 788, 'give': 1856, 'excellent': 1549, 'truly': 4438, 'enjoy': 1448, 'relaxing': 3157, 'disk': 1156, 'favorites': 1699, 'scar': 3432, 'life': 2276, 'death': 939, 'ancient': 107, 'dragon': 1247, 'lose': 2320, 'drown': 1279, 'two': 4467, 'draggons': 1246, 'home': 1987, 'girlfriend': 1855, 'zelbessdisk': 4991, 'three': 4271, 'garden': 1833, 'god': 1864, 'fat': 1691, 'sea': 3479, 'burn': 478, 'prayer': 2816, 'tower': 4365, 'radical': 3019, 'dreamer': 1265, 'unstealable': 4587, 'bring': 460, 'remember': 3183, 'pull': 2957, 'floor': 1765, 'hear': 1941, 'know': 2218, 'divine': 1195, 'single': 3659, 'song': 3774, 'tell': 4173, 'story': 3941, 'good': 1868, 'great': 1887, 'without': 4883, 'doubt': 1232, 'magical': 2351, 'wind': 4870, 'unstolen': 4590, 'translation': 4389, 'varies': 4647, 'perfect': 2671, 'ask': 208, 'pour': 2801, 'heart': 1943, 'paper': 2631, 'absolute': 8, 'quite': 3005, 'actually': 33, 'read': 3057, 'least': 2256, 'whether': 4838, 'aware': 281, 'contribute': 740, 'greatly': 1888, 'mood': 2456, 'minute': 2434, 'whole': 4850, 'exact': 1539, 'count': 790, 'remarkable': 3179, 'assure': 224, 'forget': 1784, 'everything': 1530, 'listener': 2295, 'energetic': 1432, 'dancing': 908, 'tokage': 4326, 'termina': 4190, 'slower': 3713, 'purely': 2972, 'beautifully': 346, 'composed': 665, 'fantastic': 1675, 'vocal': 4726, 'videogame': 4689, 'surely': 4059, 'buyer': 486, 'beware': 391, 'book': 424, 'want': 4765, 'haddon': 1908, 'family': 1668, 'friend': 1808, 'perhaps': 2678, 'imagine': 2050, 'thing': 4249, 'spend': 3826, 'piece': 2700, 'another': 117, 'definitely': 979, 'bad': 294, 'enough': 1457, 'enter': 1462, 'kind': 2207, 'contest': 728, 'believe': 374, 'amazon': 99, 'sell': 3507, 'maybe': 2391, 'offer': 2568, 'grade': 1876, 'term': 4189, 'kill': 2204, 'anyway': 125, 'unless': 4556, 'send': 3511, 'someone': 3766, 'joke': 2178, 'far': 1677, 'glorious': 1861, 'love': 2328, 'whisper': 4842, 'wicked': 4853, 'saint': 3378, 'pleasantly': 2723, 'surprise': 4068, 'change': 546, 'romance': 3327, 'novels': 2549, 'world': 4918, 'rave': 3052, 'brilliant': 459, 'true': 4436, 'wonderful': 4897, 'told': 4328, 'typical': 4471, 'crime': 834, 'becuase': 351, 'miss': 2440, 'warm': 4774, 'five': 1750, 'finish': 1742, 'fell': 1719, 'expect': 1584, 'average': 269, 'instead': 2095, 'find': 1738, 'think': 4250, 'predict': 2825, 'outcome': 2598, 'shock': 3599, 'writting': 4948, 'descriptive': 1029, 'break': 453, 'felt': 1722, 'reader': 3059, 'lover': 2331, 'novel': 2548, 'let': 2267, 'cover': 805, 'fool': 1776, 'spectacular': 3820, 'easy': 1337, 'make': 2358, 'keep': 2192, 'put': 2982, 'left': 2258, 'wanting': 4767, 'follow': 1773, 'come': 627, 'soon': 3776, 'use': 4624, 'get': 1848, 'enjoyable': 1449, 'complete': 656, 'waste': 4786, 'typographical': 4474, 'error': 1498, 'poor': 2760, 'grammar': 1879, 'totally': 4355, 'pathetic': 2652, 'plot': 2728, 'add': 35, 'nothing': 2545, 'embarrass': 1401, 'author': 258, 'disappoint': 1120, 'pay': 2658, 'fast': 1688, 'boy': 444, 'twist': 4465, 'turn': 4452, 'guess': 1899, 'happen': 1920, 'next': 2523, 'fall': 1662, 'heat': 1944, 'also': 89, 'throu': 4276, 'several': 3551, 'emotion': 1408, 'quick': 3000, 'something': 3768, 'end': 1424, 'day': 927, 'night': 2530, 'yet': 4976, 'realistic': 3065, 'show': 3612, 'human': 2018, 'fact': 1639, 'writer': 4944, 'side': 3626, 'revengeful': 3267, 'twisted': 4466, 'glass': 1858, 'castle': 525, 'oh': 2572, 'please': 2724, 'discern': 1130, 'others': 2595, 'drivel': 1275, 'trouble': 4430, 'typo': 4473, 'prominently': 2908, 'feature': 1708, 'first': 1747, 'page': 2623, 'remove': 3194, 'wait': 4749, 'point': 2737, 'beginning': 364, 'clear': 598, 'intentional': 2105, 'churn': 583, 'prose': 2928, 'satiric': 3407, 'purpose': 2979, 'glad': 1857, 'awful': 286, 'beyond': 393, 'belief': 371, 'seem': 3501, 'grader': 1877, 'skill': 3684, 'age': 60, 'reviewer': 3273, 'per': 2670, 'chapter': 547, 'example': 1545, 'mention': 2411, 'lean': 2252, 'house': 2010, 'distract': 1188, 'weak': 4800, 'decide': 952, 'pencil': 2666, 'mark': 2374, 'horrible': 1999, 'spell': 3824, 'relatives': 3155, 'faith': 1658, 'try': 4441, 'fake': 1661, 'obvious': 2560, 'person': 2681, 'sentence': 3522, 'structure': 3970, 'veronica': 4668, 'romantic': 3330, 'zen': 4992, 'baseball': 319, 'comedy': 629, 'folk': 1771, 'anymore': 122, 'might': 2424, 'talk': 4125, 'cool': 758, 'young': 4981, 'cuban': 865, 'search': 3485, 'stumble': 3984, 'resort': 3235, 'kitchen': 2213, 'man': 2363, 'italian': 2144, 'chef': 560, 'right': 3299, 'team': 4153, 'sponsor': 3845, 'owner': 2616, 'often': 2571, 'case': 521, 'honest': 1989, 'comical': 634, 'always': 94, 'emotional': 1409, 'interaction': 2107, 'sizzle': 3678, 'roster': 3337, 'player': 2720, 'mix': 2444, 'special': 3815, 'effect': 1362, 'salsa': 3383, 'flashback': 1754, 'big': 396, 'fashionable': 1687, 'compression': 672, 'stocking': 3930, 'dvt': 1317, 'doctor': 1205, 'require': 3224, 'wear': 4804, 'ugly': 4477, 'white': 4843, 'ted': 4163, 'hose': 2004, 'yucky': 4989, 'thick': 4243, 'brown': 468, 'jobst': 2173, 'ultrasheer': 4483, 'need': 2514, 'look': 2317, 'regular': 3139, 'though': 4264, 'blood': 412, 'still': 3922, 'support': 4049, 'legs': 2261, 'nice': 2524, 'problem': 2882, 'rubberize': 3347, 'top': 4341, 'roll': 3325, 'thigh': 4247, 'hat': 1931, 'skin': 3687, 'inexpensive': 2076, 'belt': 381, 'fine': 1740, 'help': 1952, 'high': 1963, 'product': 2888, 'however': 2011, 'difficult': 1087, 'old': 2576, 'full': 1817, 'workout': 4915, 'begin': 361, 'create': 826, 'deep': 963, 'ridge': 3294, 'difficulty': 1088, 'address': 38, 'size': 3675, 'recomended': 3103, 'chart': 554, 'real': 3063, 'small': 3716, 'sheer': 3582, 'item': 2147, 'store': 3938, 'check': 558, 'men': 2409, 'model': 2447, 'may': 2390, 'ok': 2573, 'sedentary': 3497, 'type': 4470, 'active': 29, 'around': 179, 'alot': 85, 'job': 2172, 'consistently': 714, 'ankle': 115, 'solution': 3760, 'standard': 3877, 'stock': 3929, 'stay': 3901, 'pair': 2628, 'tore': 4344, 'struggled': 3973, 'investment': 2124, 'delicious': 994, 'cookie': 755, 'funny': 1823, 'quickly': 3002, 'package': 2619, 'cooky': 757, 'notice': 2546, 'since': 3653, 'convenience': 745, 'dough': 1233, 'wrap': 4935, 'plastic': 2715, 'bite': 403, 'extremely': 1627, 'sticky': 3920, 'ratio': 3049, 'ingredient': 2083, 'extra': 1621, 'baked': 295, 'really': 3069, 'large': 2235, 'chocolate': 570, 'chip': 569, 'addition': 37, 'flavor': 1757, 'digital': 1092, 'copy': 765, 'rather': 3047, 'scratch': 3468, 'droppings': 1278, 'random': 3031, 'light': 2279, 'vague': 4636, 'image': 2046, 'resolution': 3234, 'cue': 867, 'straight': 3944, 'street': 3956, 'corner': 770, 'bootleg': 428, 'see': 3498, 'reasonably': 3075, 'condition': 691, 'film': 1732, 'define': 976, 'visuals': 4719, 'crystal': 862, 'contrast': 739, 'black': 405, 'surround': 4074, 'countryside': 795, 'scene': 3444, 'set': 3542, 'early': 1328, 'morning': 2461, 'ground': 1894, 'memory': 2408, 'event': 1521, 'water': 4791, 'bright': 458, 'dull': 1296, 'dark': 916, 'timbre': 4302, 'enunciation': 1478, 'captain': 507, 'hard': 1925, 'award': 280, 'win': 4869, 'critically': 842, 'presentation': 2843, 'youtube': 4986, 'somewhere': 3772, 'dvd': 1309, 'public': 2949, 'library': 2272, 'none': 2538, 'appear': 137, 'fascinate': 1682, 'insight': 2089, 'modern': 2448, 'japanese': 2160, 'thoroughly': 4262, 'rise': 3306, 'son': 3773, 'daughter': 923, 'society': 3745, 'view': 4691, 'poise': 2740, 'parent': 2637, 'culture': 870, 'restraint': 3249, 'community': 641, 'peer': 2664, 'western': 4826, 'form': 1788, 'new': 2522, 'japan': 2159, 'blend': 408, 'demonstrate': 1010, 'vignette': 4694, 'private': 2874, 'member': 2406, 'steven': 3918, 'wardell': 4771, 'clearly': 599, 'talented': 4124, 'adopt': 41, 'school': 3453, 'four': 1798, 'thus': 4287, 'able': 6, 'inside': 2088, 'album': 71, 'thought': 4265, 'blue': 414, 'angel': 109, 'hair': 1909, 'trully': 4437, 'amazing': 97, 'singer': 3656, 'talent': 4123, 'charge': 550, 'charger': 551, 'aa': 0, 'battery': 328, 'huge': 2016, 'secure': 3496, 'aaa': 1, 'flip': 1763, 'little': 2301, 'button': 484, 'positive': 2777, 'pop': 2762, 'wo': 4890, 'hold': 1981, 'become': 349, 'loose': 2319, 'horizontal': 1998, 'pressure': 2849, 'push': 2981, 'duct': 1290, 'tape': 4136, 'segment': 3503, 'crayon': 822, 'apply': 144, 'painful': 2625, 'advertise': 48, 'instruction': 2096, 'dont': 1220, 'do': 1202, 'hour': 2008, 'return': 3260, 'useless': 4626, 'manage': 2364, 'drain': 1251, 'purchase': 2967, 'disappointed': 1121, 'convenient': 746, 'last': 2237, 'short': 3607, 'long': 2315, 'dear': 938, 'excite': 1559, 'muslim': 2487, 'feminism': 1724, 'volume': 4731, 'live': 2302, 'essay': 1503, 'among': 102, 'describes': 1027, 'veil': 4660, 'potentially': 2795, 'liberate': 2270, 'explain': 1594, 'woman': 4894, 'town': 4366, 'claim': 589, 'separate': 3523, 'equal': 1485, 'whiz': 4847, 'hop': 1995, 'condemnation': 688, 'surprised': 4069, 'extol': 1620, 'virtue': 4709, 'female': 1723, 'genital': 1843, 'lappen': 2233, 'base': 318, 'christmas': 578, 'present': 2842, 'join': 2176, 'rest': 3245, 'vhs': 4677, 'movie': 2471, 'reviews': 3274, 'jvc': 2189, 'tv': 4454, 'choice': 571, 'agree': 64, 'awkward': 288, 'selection': 3505, 'option': 2586, 'hang': 1919, 'comment': 635, 'complicate': 660, 'many': 2371, 'remote': 3192, 'rely': 3175, 'heavily': 1945, 'manual': 2370, 'vcr': 4655, 'timer': 4306, 'start': 3887, 'scroll': 3475, 'complaint': 655, 'incorrect': 2068, 'disc': 1129, 'fan': 1670, 'suspiscious': 4086, 'saw': 3420, 'unit': 4547, 'section': 3494, 'happy': 1924, 'click': 601, 'receiver': 3087, 'transition': 4388, 'smooth': 3727, 'pause': 2657, 'fairly': 1655, 'message': 2413, 'television': 4172, 'bookshelf': 425, 'audio': 248, 'system': 4113, 'car': 510, 'move': 2469, 'boys': 446, 'room': 3334, 'decided': 953, 'combo': 626, 'longer': 2316, 'except': 1550, 'cable': 490, 'box': 443, 'compatability': 646, 'control': 743, 'seperate': 3526, 'input': 2086, 'program': 2901, 'wife': 4859, 'difference': 1085, 'title': 4317, 'hollywood': 1985, 'debacle': 941, 'ridiculous': 3296, 'wonder': 4896, 'script': 3474, 'mountain': 2467, 'lion': 2291, 'trailer': 4378, 'behind': 367, 'capture': 509, 'jail': 2154, 'utterly': 4633, 'completely': 657, 'stupid': 3986, 'hotel': 2006, 'babylon': 291, 'incredible': 2069, 'act': 27, 'tamzin': 4130, 'eastenders': 1335, 'bbc': 332, 'soap': 3739, 'beesley': 356, 'drama': 1252, 'series': 3534, 'opera': 2581, 'mixed': 2445, 'air': 67, 'america': 100, 'got': 1871, 'episode': 1483, 'season': 3486, 'finale': 1736, 'interest': 2109, 'remind': 3186, 'reason': 3073, 'san': 3390, 'luxury': 2341, 'recommend': 3105, 'willing': 4868, 'watch': 4789, 'already': 87, 'law': 2244, 'seriously': 3536, 'unfortunately': 4532, 'entertain': 1463, 'order': 2587, 'hip': 1972, 'daddy': 902, 'vibe': 4679, 'dismay': 1159, 'class': 592, 'main': 2353, 'xylaphone': 4959, 'playing': 2721, 'voice': 4728, 'replicate': 3213, 'party': 2645, 'anywhere': 127, 'laughed': 2242, 'beach': 335, 'grow': 1896, 'surfer': 4062, 'diego': 1082, 'southern': 3801, 'california': 493, 'brother': 466, 'honestly': 1990, 'kinda': 2208, 'epitimy': 1484, 'surf': 4060, 'cha': 540, 'rochelle': 3316, 'hell': 1950, 'moral': 2459, 'aspect': 210, 'american': 101, 'argue': 164, 'explanation': 1597, 'simple': 3645, 'individual': 2073, 'ignore': 2038, 'personal': 2682, 'responsibility': 3243, 'final': 1735, 'response': 3242, 'robert': 3314, 'ringer': 3302, 'seller': 3508, 'disgust': 1151, 'state': 3894, 'medium': 2402, 'politics': 2751, 'discourse': 1135, 'general': 1839, 'head': 1938, 'substantial': 4000, 'challenge': 543, 'lie': 2275, 'being': 369, 'larry': 2236, 'label': 2223, 'late': 2238, 'explore': 1603, 'rich': 3287, 'catalog': 527, 'jazz': 2162, 'musician': 2485, 'relax': 3156, 'focus': 1769, 'valentine': 4638, 'stand': 3876, 'baker': 296, 'mac': 2343, 'line': 2289, 'os': 2593, 'window': 4871, 'frustrate': 1814, 'attempt': 234, 'touch': 4356, 'mouse': 2468, 'arrow': 185, 'keyboard': 2198, 'fun': 1819, 'disapointed': 1117, 'attention': 237, 'level': 2269, 'rescue': 3226, 'hero': 1956, 'dog': 1211, 'former': 1791, 'alaskan': 70, 'repeatedly': 3206, 'allman': 79, 'recipe': 3098, 'throw': 4279, 'cup': 874, 'nearly': 2510, 'compare': 643, 'ed': 1351, 'wood': 4902, 'flawlessly': 1760, 'lisa': 2292, 'rayner': 3053, 'wild': 4863, 'bread': 451, 'sourdough': 3799, 'artisan': 194, 'novice': 2551, 'reliably': 3165, 'place': 2708, 'reliable': 3163, 'concise': 683, 'information': 2081, 'maintain': 2355, 'fabulous': 1635, 'tome': 4335, 'pas': 2646, 'historical': 1975, 'warrant': 4778, 'cost': 783, 'alaska': 69, 'visit': 4713, 'starter': 3889, 'collection': 617, 'advise': 53, 'ruth': 3361, 'picture': 2699, 'past': 2649, 'ago': 63, 'stuff': 3980, 'pot': 2792, 'autumn': 262, 'prefect': 2829, 'close': 606, 'download': 1237, 'wax': 4796, 'decade': 946, 'background': 293, 'dance': 907, 'feat': 1706, 'russia': 3360, 'hunt': 2025, 'melody': 2404, 'english': 1443, 'lyric': 2342, 'else': 1393, 'via': 4678, 'downloader': 1238, 'happily': 1923, 'ipod': 2128, 'experience': 1589, 'rattle': 3051, 'sometimes': 3770, 'tried': 4417, 'quality': 2988, 'screen': 3471, 'thru': 4281, 'middle': 2422, 'plus': 2733, 'dead': 933, 'layout': 2247, 'sense': 3516, 'engineering': 1441, 'imo': 2053, 'refund': 3133, 'emerson': 1404, 'name': 2496, 'wm': 4889, 'sylvania': 4104, 'flat': 1755, 'build': 473, 'weight': 4820, 'space': 3803, 'save': 3416, 'attractive': 243, 'design': 1033, 'sharp': 3579, 'playback': 2718, 'negative': 2517, 'function': 1820, 'key': 2197, 'due': 1292, 'color': 622, 'almost': 82, 'carefully': 515, 'terrible': 4194, 'birthday': 401, 'toreturn': 4345, 'repalcement': 3204, 'fail': 1649, 'junk': 2186, 'recall': 3080, 'sony': 3775, 'universal': 4550, 'factory': 1641, 'capability': 502, 'deal': 936, 'user': 4627, 'annoy': 116, 'replace': 3210, 'tube': 4444, 'gain': 1829, 'relcaiming': 3158, 'counter': 791, 'internal': 2113, 'bonus': 422, 'defective': 968, 'electronics': 1382, 'express': 1609, 'contact': 723, 'rma': 3312, 'number': 2555, 'fedex': 1711, 'pick': 2698, 'arrive': 182, 'week': 4817, 'later': 2239, 'clarity': 591, 'loud': 2326, 'rv': 3362, 'run': 3355, 'barely': 312, 'solve': 3761, 'jack': 2150, 'stereo': 3914, 'speaker': 3813, 'lightweight': 2280, 'romanian': 3329, 'opinion': 2582, 'bias': 394, 'europe': 1516, 'clean': 597, 'proper': 2923, 'shed': 3581, 'understand': 4516, 'tourist': 4361, 'guide': 1900, 'tour': 4360, 'country': 794, 'reference': 3128, 'travel': 4396, 'outline': 2602, 'exclude': 1565, 'romania': 3328, 'precision': 2824, 'detail': 1048, 'dk': 1200, 'leave': 2257, 'disappointment': 1123, 'realy': 3070, 'everybody': 1526, 'combination': 625, 'illustration': 2044, 'text': 4208, 'overall': 2606, 'sight': 3629, 'city': 588, 'european': 1517, 'traveled': 4397, 'thank': 4218, 'eyewitness': 1630, 'lonely': 2314, 'planet': 2713, 'info': 2079, 'buying': 487, 'surface': 4061, 'receive': 3085, 'overview': 2612, 'spanish': 3805, 'sort': 3788, 'printing': 2869, 'highlight': 1965, 'tn': 4319, 'reatards': 3077, 'course': 799, 'kid': 2202, 'jay': 2161, 'reatard': 3076, 'eric': 1493, 'tender': 4184, 'rock': 3317, 'offend': 2567, 'sensibility': 3517, 'crackle': 811, 'underlay': 4507, 'croon': 847, 'energize': 1433, 'either': 1373, 'depend': 1016, 'sent': 3521, 'foot': 1777, 'copper': 764, 'accept': 15, 'way': 4797, 'thia': 4242, 'gift': 1851, 'husband': 2028, 'date': 921, 'plate': 2716, 'inferior': 2077, 'previous': 2855, 'edition': 1356, 'ahead': 65, 'helpful': 1953, 'gem': 1837, 'complex': 659, 'subject': 3992, 'second': 3490, 'century': 535, 'religious': 3172, 'authority': 259, 'textual': 4210, 'serious': 3535, 'period': 2679, 'essential': 1505, 'detailed': 1049, 'yes': 4974, 'cardboard': 512, 'beat': 341, 'cheesy': 559, 'across': 26, 'entire': 1472, 'solid': 3757, 'decent': 949, 'distance': 1182, 'scrap': 3466, 'noticeable': 2547, 'scrape': 3467, 'plenty': 2727, 'material': 2388, 'bottom': 438, 'ship': 3592, 'exchange': 1558, 'damage': 904, 'risk': 3308, 'unknown': 4553, 'africa': 57, 'profesionally': 2892, 'produce': 2886, 'soukous': 3790, 'fado': 1647, 'rithem': 3309, 'soft': 3749, 'fit': 1749, 'record': 3110, 'france': 1800, 'paris': 2638, 'professional': 2893, 'hot': 2005, 'lazy': 2248, 'arno': 176, 'expectation': 1585, 'shoe': 3601, 'rip': 3304, 'apart': 129, 'sole': 3755, 'sadly': 3371, 'within': 4882, 'month': 2455, 'similar': 3641, 'sperry': 3828, 'profound': 2900, 'narrative': 2498, 'style': 3988, 'famous': 1669, 'john': 2175, 'morse': 2463, 'arrogant': 184, 'frequently': 1806, 'exaggerated': 1541, 'carry': 519, 'tone': 4338, 'amateur': 95, 'yankee': 4962, 'historian': 1974, 'pass': 2647, 'statesman': 3896, 'neither': 2518, 'boston': 435, 'graduate': 1878, 'consider': 709, 'represent': 3217, 'today': 4320, 'research': 3227, 'thin': 4248, 'conclude': 684, 'essentially': 1506, 'primary': 2861, 'secondary': 3491, 'source': 3798, 'rat': 3044, 'yr': 4987, 'barbie': 310, 'computer': 674, 'worry': 4922, 'vibrant': 4680, 'friendly': 1809, 'rapunzel': 3038, 'ton': 4337, 'together': 4324, 'decorate': 957, 'alone': 83, 'creativity': 828, 'adventure': 47, 'addict': 36, 'open': 2580, 'singing': 3658, 'non': 2537, 'stop': 3936, 'excited': 1560, 'maze': 2392, 'prince': 2864, 'stefan': 3907, 'sings': 3661, 'cry': 860, 'child': 564, 'currently': 883, 'sob': 3740, 'bedroom': 353, 'result': 3252, 'rotten': 3340, 'halfway': 1911, 'exit': 1580, 'frozen': 1813, 'spot': 3847, 'disembodied': 1147, 'urge': 4619, 'software': 3751, 'troubleshoot': 4431, 'reboot': 3079, 'vivendi': 4723, 'site': 3669, 'disable': 1115, 'weep': 4819, 'fault': 1695, 'programming': 2903, 'catch': 528, 'buck': 472, 'avoid': 273, 'creative': 827, 'granddaughter': 1881, 'plan': 2711, 'imagination': 2048, 'fight': 1728, 'choose': 572, 'theme': 4229, 'allow': 80, 'crown': 851, 'power': 2805, 'stephan': 3912, 'stone': 3933, 'animation': 114, 'bore': 430, 'adult': 42, 'variation': 4646, 'scheme': 3447, 'pattern': 2656, 'highly': 1966, 'rental': 3201, 'exciting': 1562, 'basically': 321, 'username': 4628, 'sister': 3665, 'classic': 593, 'multiple': 2479, 'slow': 3712, 'thinking': 4251, 'access': 17, 'everytime': 1531, 'task': 4141, 'sequence': 3531, 'file': 1730, 'crash': 817, 'possible': 2784, 'patience': 2653, 'survive': 4078, 'trial': 4411, 'substitute': 4002, 'vendor': 4663, 'recieve': 3095, 'feedback': 1713, 'rate': 3045, 'bother': 436, 'future': 1826, 'company': 642, 'mistake': 2442, 'hundred': 2023, 'dollar': 1215, 'building': 474, 'careful': 514, 'smell': 3721, 'bottle': 437, 'delicate': 993, 'summer': 4031, 'perfume': 2677, 'recipient': 3099, 'creepy': 832, 'wow': 4934, 'revenge': 3266, 'door': 1222, 'prepared': 2840, 'existent': 1579, 'didnt': 1080, 'thai': 4215, 'exist': 1576, 'matter': 2389, 'exception': 1552, 'dub': 1288, 'sub': 3991, 'par': 2632, 'remain': 3176, 'shame': 3572, 'sham': 3571, 'original': 2590, 'tokyo': 4327, 'sooo': 3778, 'jammin': 2157, 'trill': 4420, 'suc': 4006, 'pokey': 2742, 'official': 2570, 'production': 2889, 'screw': 3473, 'downsized': 1241, 'sad': 3369, 'ya': 4960, 'tx': 4468, 'rap': 3036, 'ta': 4114, 'somethin': 3767, 'blow': 413, 'jam': 2155, 'ride': 3293, 'underrate': 4513, 'pat': 2650, 'steve': 3917, 'regardless': 3137, 'alive': 77, 'dirty': 1113, 'south': 3800, 'southside': 3802, 'ward': 4770, 'farm': 1678, 'photo': 2692, 'shewas': 3589, 'til': 4297, 'revise': 3275, 'version': 4670, 'bill': 397, 'history': 1976, 'awaken': 279, 'possiblility': 2785, 'relationship': 3151, 'faithfulness': 1659, 'treasure': 4403, 'keeper': 2193, 'drew': 1269, 'draw': 1257, 'idea': 2035, 'comfy': 632, 'lounge': 2327, 'cake': 492, 'topper': 4343, 'estimate': 1508, 'july': 2184, 'wrong': 4949, 'ariel': 169, 'pearl': 2661, 'cute': 895, 'provide': 2941, 'include': 2065, 'trust': 4439, 'sweet': 4096, 'email': 1399, 'supply': 4048, 'list': 2293, 'sheet': 3583, 'ready': 3062, 'boot': 427, 'phone': 2691, 'yield': 4977, 'meanwhile': 2397, 'unreliable': 4578, 'soulwax': 3795, 'critic': 840, 'consumer': 722, 'alike': 76, 'release': 3159, 'debut': 945, 'defunct': 984, 'radio': 3020, 'hit': 1977, 'djs': 1199, 'band': 305, 'critcs': 839, 'hopefully': 1997, 'nite': 2534, 'duran': 1306, 'club': 611, 'sale': 3380, 'practically': 2809, 'grab': 1875, 'neck': 2513, 'tiga': 4292, 'upcoming': 4607, 'sexor': 3557, 'own': 2615, 'saturday': 3412, 'cause': 530, 'classical': 594, 'bateman': 326, 'lead': 2250, 'moment': 2451, 'relief': 3167, 'minimum': 2432, 'attempts': 235, 'achieve': 24, 'suggest': 4021, 'skipping': 3690, 'finally': 1737, 'wriiten': 4940, 'horribly': 2000, 'lack': 2225, 'mystery': 2492, 'culprit': 868, 'ten': 4179, 'twelve': 4459, 'educational': 1359, 'train': 4379, 'shape': 3574, 'guarantee': 1898, 'puzzle': 2984, 'range': 3032, 'silly': 3639, 'faintly': 1653, 'odd': 2564, 'theory': 4231, 'artistry': 197, 'deodato': 1014, 'concert': 681, 'string': 3964, 'appreciate': 146, 'tropea': 4429, 'excelent': 1548, 'rendition': 3198, 'remastered': 3180, 'irrelevant': 2132, 'textbook': 4209, 'transaction': 4384, 'engage': 1438, 'te': 4149, 'wash': 4781, 'shore': 3606, 'isle': 2140, 'caretaker': 516, 'colin': 614, 'macpherson': 2346, 'uncover': 4500, 'opposite': 2584, 'attract': 241, 'avon': 277, 'call': 494, 'trashy': 4394, 'usually': 4630, 'tie': 4291, 'enchant': 1419, 'heroine': 1957, 'part': 2641, 'content': 726, 'island': 2139, 'ashore': 204, 'solitude': 3758, 'shaken': 3568, 'fear': 1704, 'strange': 3947, 'reluctantly': 3174, 'strike': 3963, 'friendship': 1810, 'tess': 4205, 'discovers': 1137, 'courage': 798, 'believability': 372, 'mostly': 2464, 'characterization': 549, 'character': 548, 'introduce': 2118, 'behavior': 365, 'development': 1058, 'force': 1780, 'improve': 2063, 'towards': 4364, 'skip': 3689, 'portable': 2768, 'drive': 1274, 'performance': 2674, 'underpowered': 4512, 'constantly': 718, 'half': 1910, 'unsuccessfully': 4594, 'uncomfortable': 4498, 'pant': 2630, 'sizes': 3677, 'incredibly': 2070, 'stiff': 3921, 'authentic': 256, 'encounter': 1422, 'yoruba': 4980, 'particular': 2642, 'certain': 537, 'speak': 3812, 'anybody': 121, 'question': 2998, 'unanswered': 4488, 'note': 2544, 'learn': 2253, 'impossible': 2058, 'pronnounce': 2917, 'native': 2504, 'confuse': 701, 'spealling': 3814, 'teach': 4151, 'basic': 320, 'vocabulary': 4725, 'pronounciation': 2919, 'dashmat': 919, 'specific': 3817, 'vehicle': 4659, 'correct': 776, 'mat': 2386, 'duplicate': 1303, 'therefore': 4236, 'sit': 3666, 'grandchild': 1880, 'value': 4641, 'tic': 4289, 'tac': 4118, 'toe': 4323, 'kelly': 2194, 'pet': 2687, 'parade': 2633, 'dress': 1268, 'pony': 2755, 'jump': 2185, 'etc': 1510, 'animal': 112, 'elephant': 1387, 'float': 1764, 'accomplish': 19, 'along': 84, 'wonderfully': 4899, 'laptop': 2234, 'tough': 4358, 'polar': 2744, 'bear': 340, 'fish': 1748, 'tricky': 4416, 'finger': 1741, 'pad': 2621, 'easier': 1332, 'load': 2307, 'lots': 2325, 'different': 1086, 'prepare': 2839, 'endless': 1428, 'graphic': 1885, 'colorful': 623, 'winner': 4874, 'reinstalled': 3145, 'issue': 2143, 'activity': 30, 'slip': 3707, 'satisfy': 3409, 'manner': 2369, 'awesome': 283, 'advertisement': 49, 'ddr': 931, 'cooool': 760, 'versons': 4671, 'uk': 4480, 'assume': 223, 'available': 267, 'england': 1442, 'sang': 3394, 'arcade': 154, 'ive': 2148, 'playstation': 2722, 'guy': 1904, 'compatible': 647, 'machine': 2344, 'deeply': 964, 'stage': 3868, 'euromix': 1515, 'revolution': 3279, 'equivalent': 1489, 'unheard': 4536, 'favourite': 1701, 'situation': 3671, 'lucky': 2337, 'letter': 2268, 'admit': 40, 'michael': 2419, 'montgomery': 2454, 'approach': 148, 'couple': 797, 'beer': 355, 'devil': 1061, 'spice': 3830, 'deserves': 1032, 'cuz': 896, 'soldier': 3754, 'stuffi': 3982, 'punk': 2966, 'hr': 2012, 'ball': 298, 'este': 1507, 'contiene': 730, 'todo': 4322, 'lo': 2306, 'que': 2992, 'saber': 3366, 'sobre': 3741, 'el': 1374, 'sus': 4080, 'lei': 2262, 'hasta': 1929, 'si': 3622, 'puedo': 2954, 'discutir': 1145, 'de': 932, 'con': 675, 'mi': 2418, 'esposo': 1501, 'cuñados': 897, 'suegro': 4017, 'ex': 1538, 'cereal': 536, 'curiousity': 879, 'hook': 1993, 'breakfast': 454, 'eat': 1338, 'especially': 1499, 'crave': 821, 'honey': 1992, 'taste': 4143, 'hungry': 2024, 'sweeter': 4097, 'bunch': 477, 'cap': 501, 'crunch': 857, 'splendid': 3839, 'fill': 1731, 'word': 4906, 'warning': 4777, 'saturated': 3411, 'distraught': 1189, 'local': 2308, 'walmart': 4757, 'elate': 1375, 'church': 582, 'bowl': 442, 'timber': 4300, 'frame': 1799, 'technical': 4158, 'joint': 2177, 'beam': 338, 'span': 3804, 'hanford': 1918, 'mill': 2426, 'museum': 2482, 'master': 2384, 'recent': 3089, 'trip': 4424, 'avid': 272, 'vaguely': 4637, 'various': 4649, 'tenon': 4186, 'illustrate': 2043, 'practical': 2808, 'outstanding': 2605, 'timberframe': 4301, 'although': 92, 'construction': 720, 'invaluable': 2121, 'process': 2884, 'editing': 1355, 'disservice': 1180, 'traditional': 4374, 'print': 2866, 'drawing': 1259, 'inform': 2080, 'venture': 4665, 'project': 2905, 'internet': 2114, 'dip': 1106, 'boil': 418, 'temperature': 4175, 'describe': 1026, 'shrink': 3618, 'egg': 1369, 'transfer': 4386, 'needless': 2516, 'intelligent': 2101, 'immediately': 2051, 'property': 2925, 'explicit': 1598, 'war': 4768, 'coast': 612, 'pc': 2659, 'outrun': 2603, 'sink': 3663, 'meant': 2396, 'follower': 1774, 'rally': 3025, 'race': 3012, 'battlefield': 330, 'landscape': 2229, 'slide': 3700, 'total': 4354, 'rubbish': 3349, 'mine': 2431, 'costly': 784, 'henry': 1955, 'nobody': 2535, 'worn': 4920, 'clone': 605, 'forty': 1795, 'dad': 901, 'ill': 2040, 'significance': 3633, 'battle': 329, 'terminal': 4191, 'making': 2360, 'charisma': 552, 'obsession': 2559, 'trauma': 4395, 'bought': 439, 'replacement': 3211, 'safely': 3374, 'shelf': 3585, 'thread': 4269, 'bare': 311, 'online': 2578, 'overwhelm': 2613, 'less': 2265, 'cherish': 561, 'thanks': 4220, 'walt': 4758, 'disney': 1160, 'toy': 4368, 'six': 3672, 'sweeet': 4094, 'contemporary': 725, 'fairytale': 1657, 'delight': 995, 'snow': 3737, 'ups': 4614, 'reward': 3281, 'forward': 1796, 'sinclair': 3654, 'sketch': 3682, 'excitement': 1561, 'actual': 32, 'render': 3197, 'beginner': 363, 'thrill': 4273, 'match': 2387, 'cushion': 890, 'description': 1028, 'deliver': 998, 'impression': 2061, 'insert': 2087, 'attach': 232, 'strap': 3950, 'definately': 974, 'luckily': 2336, 'policy': 2748, 'laugh': 2240, 'unintentionally': 4543, 'free': 1803, 'sex': 3556, 'defintely': 982, 'divroced': 1198, 'publish': 2951, 'theatre': 4225, 'archive': 160, 'witty': 4887, 'sparkle': 3809, 'ruin': 3352, 'costume': 785, 'intentionally': 2106, 'absurd': 11, 'worse': 4923, 'renaissance': 3196, 'director': 1110, 'scandal': 3429, 'dvds': 1314, 'intention': 2104, 'extended': 1612, 'drinking': 1273, 'knew': 2215, 'revolt': 3278, 'marketplace': 2377, 'packaging': 2620, 'unprofessional': 4573, 'audience': 247, 'charm': 553, 'chance': 545, 'student': 3977, 'compilation': 653, 'chose': 575, 'perform': 2673, 'artist': 195, 'poorly': 2761, 'starlite': 3885, 'wave': 4795, 'prior': 2870, 'sing': 3655, 'garbage': 1832, 'prompt': 2915, 'november': 2550, 'nowhere': 2552, 'deceive': 947, 'group': 1895, 'duh': 1294, 'trash': 4393, 'purist': 2973, 'wedding': 4813, 'reception': 3092, 'session': 3541, 'cheap': 555, 'synthesizer': 4112, 'vocalists': 4727, 'schlock': 3449, 'handycam': 1917, 'mm': 2446, 'die': 1081, 'camera': 498, 'continue': 732, 'performs': 2676, 'faster': 1690, 'simpler': 3646, 'included': 2066, 'tech': 4157, 'mr': 2472, 'hines': 1970, 'curious': 878, 'remastering': 3181, 'producer': 2887, 'courtroom': 803, 'realize': 3067, 'reveal': 3264, 'crucial': 852, 'unbelievable': 4493, 'earlier': 1327, 'detective': 1050, 'attorney': 240, 'unfolded': 4529, 'mcbain': 2393, 'abuse': 12, 'abusive': 13, 'childhood': 565, 'dorie': 1225, 'forgive': 1785, 'successful': 4008, 'spite': 3838, 'refer': 3126, 'contradict': 735, 'peter': 2688, 'tracy': 4371, 'ringolsby': 3303, 'stark': 3883, 'major': 2356, 'league': 2251, 'stats': 3899, 'score': 3462, 'extensive': 1614, 'resource': 3236, 'prospect': 2929, 'deserve': 1031, 'subscriber': 3995, 'tomorrow': 4336, 'till': 4298, 'massive': 2383, 'subscribed': 3994, 'plunge': 2732, 'subscription': 3996, 'coverage': 806, 'minor': 2433, 'college': 619, 'uh': 4478, 'brand': 449, 'embarassment': 1400, 'steer': 3906, 'fusion': 1825, 'secret': 3492, 'pointer': 2738, 'joe': 2174, 'satriani': 3410, 'al': 68, 'dimeola': 1098, 'pratice': 2812, 'tarzan': 4140, 'intrigue': 2117, 'influence': 2078, 'destiny': 1041, 'titan': 4315, 'exploration': 1602, 'solar': 3752, 'craft': 812, 'methane': 2416, 'atmosphere': 230, 'originally': 2591, 'father': 1694, 'mission': 2441, 'saturn': 3413, 'reality': 3066, 'fantasy': 1676, 'starr': 3886, 'david': 926, 'asimov': 207, 'peek': 2663, 'block': 410, 'obviously': 2561, 'noise': 2536, 'incorporate': 2067, 'alphabet': 86, 'easily': 1333, 'banana': 303, 'umbrella': 4484, 'pry': 2944, 'tends': 4185, 'wall': 4753, 'smash': 3719, 'drop': 1277, 'tolerate': 4330, 'treatment': 4406, 'art': 188, 'collector': 618, 'seys': 3561, 'twin': 4463, 'learning': 2254, 'tool': 4339, 'teething': 4170, 'spin': 3833, 'queen': 2995, 'watermelon': 4792, 'seed': 3499, 'stack': 3866, 'knock': 2217, 'bang': 306, 'plain': 2710, 'wooden': 4903, 'textured': 4212, 'object': 2556, 'opportunity': 2583, 'eye': 1629, 'decision': 956, 'rocket': 3318, 'scientist': 3461, 'rub': 3345, 'dissapointing': 1174, 'concept': 679, 'baby': 290, 'mother': 2465, 'shake': 3567, 'imaginative': 2049, 'edge': 1352, 'safety': 3375, 'correspond': 778, 'tot': 4353, 'awesume': 285, 'grandson': 1884, 'goodness': 1869, 'shopping': 3605, 'interested': 2110, 'twirl': 4464, 'definate': 973, 'upgrade': 4609, 'format': 1790, 'purchasing': 2969, 'storage': 3937, 'zipper': 4995, 'purchsed': 2970, 'durable': 1305, 'impressed': 2060, 'perfectly': 2672, 'hurt': 2027, 'factor': 1640, 'fully': 1818, 'comprehend': 668, 'dig': 1090, 'waterproff': 4793, 'exotics': 1582, 'waterproof': 4794, 'ballsy': 301, 'whale': 4830, 'mary': 2381, 'study': 3979, 'communication': 640, 'washington': 4782, 'contention': 727, 'direct': 1107, 'telepathic': 4171, 'donovancalifornia': 1219, 'nifty': 2529, 'halloween': 1912, 'dummy': 1300, 'forgot': 1786, 'depict': 1017, 'liked': 2282, 'setter': 3545, 'unsubstantiated': 4592, 'discrimination': 1139, 'certainly': 538, 'smear': 3720, 'troups': 4432, 'preservation': 2844, 'academic': 14, 'molly': 2449, 'myers': 2489, 'rachel': 3014, 'corrie': 779, 'ism': 2141, 'dedicate': 958, 'propaganda': 2922, 'office': 2569, 'regularly': 3140, 'hide': 1961, 'terrorist': 4202, 'weapon': 4803, 'violence': 4702, 'sabotage': 3367, 'intend': 2103, 'innocent': 2085, 'murder': 2480, 'disregard': 1169, 'extreme': 1626, 'formula': 1792, 'fortunately': 1794, 'hesitate': 1958, 'emptor': 1417, 'chinese': 568, 'green': 1889, 'red': 3114, 'counterfeit': 792, 'serial': 3533, 'handful': 1914, 'memorable': 2407, 'seal': 3480, 'wing': 4873, 'beforehand': 358, 'self': 3506, 'sorry': 3787, 'travesty': 4400, 'killer': 2205, 'supernatural': 4043, 'storyline': 3942, 'hole': 1982, 'deaths': 940, 'confusing': 703, 'stephen': 3913, 'colletti': 620, 'horror': 2002, 'nikki': 2532, 'deloach': 1001, 'weekend': 4818, 'bernie': 386, 'terry': 4203, 'kiser': 2212, 'actor': 31, 'lol': 2313, 'anyways': 126, 'mask': 2382, 'maker': 2359, 'suspense': 4082, 'thhat': 4240, 'displayed': 1164, 'effort': 1366, 'dialogue': 1068, 'pace': 2617, 'blonde': 411, 'tree': 4408, 'root': 3335, 'yard': 4963, 'knee': 2214, 'familiarity': 1667, 'path': 2651, 'typically': 4472, 'predictable': 2827, 'fashion': 1686, 'unstoppable': 4591, 'victim': 4686, 'us': 4620, 'face': 1636, 'motivation': 2466, 'elicit': 1390, 'entry': 1477, 'familiar': 1666, 'territory': 4199, 'tread': 4402, 'cast': 524, 'competence': 650, 'effective': 1363, 'treat': 4404, 'williams': 4867, 'cameo': 497, 'role': 3324, 'vet': 4675, 'berryman': 387, 'unusually': 4602, 'restrain': 3248, 'curtis': 887, 'survivor': 4079, 'resilient': 3233, 'resourceful': 3237, 'doom': 1221, 'sic': 3623, 'equally': 1486, 'ii': 2039, 'unmasked': 4562, 'filmmaker': 1733, 'shamelessly': 3573, 'borrow': 433, 'everyone': 1529, 'stale': 3872, 'elevated': 1389, 'maniac': 2367, 'unimaginative': 4539, 'exactly': 1540, 'fright': 1811, 'safe': 3373, 'boring': 432, 'better': 390, 'brief': 457, 'appearance': 138, 'dullness': 1298, 'genre': 1844, 'exhibit': 1575, 'genealogy': 1838, 'photos': 2693, 'ghetto': 1849, 'artifact': 193, 'ration': 3050, 'card': 511, 'yellow': 4971, 'researcher': 3228, 'holocaust': 1986, 'diary': 1072, 'gerber': 1846, 'extract': 1622, 'fo': 1767, 'eastern': 1336, 'medicine': 2401, 'heal': 1939, 'dissappointed': 1176, 'unhappy': 4535, 'practice': 2810, 'dept': 1024, 'primer': 2863, 'theoretical': 4230, 'basis': 323, 'application': 143, 'philosophy': 2690, 'emphasize': 1414, 'natural': 2505, 'balance': 297, 'nature': 2507, 'informative': 2082, 'starcraft': 3880, 'warcraft': 4769, 'redundant': 3123, 'warhammer': 4773, 'pleasure': 2726, 'respect': 3238, 'enthusiasts': 1470, 'whatsoever': 4833, 'hillage': 1969, 'rising': 3307, 'darn': 918, 'guitarist': 1903, 'showcase': 3613, 'todd': 4321, 'rundgren': 3356, 'utopia': 4631, 'dissapointed': 1173, 'direction': 1108, 'dry': 1284, 'pillow': 2703, 'temperpedic': 4176, 'softer': 3750, 'post': 2787, 'tiny': 4309, 'foam': 1768, 'preforms': 2831, 'worthless': 4927, 'unatural': 4489, 'amount': 103, 'whatever': 4832, 'super': 4036, 'handle': 1915, 'heavy': 1946, 'cushy': 891, 'styrofoam': 3990, 'squish': 3864, 'dense': 1013, 'cant': 500, 'prop': 2921, 'whilst': 4839, 'pollicies': 2752, 'sleep': 3697, 'otherwise': 2596, 'position': 2776, 'width': 4858, 'rotate': 3338, 'lay': 2245, 'false': 1665, 'approx': 150, 'thickness': 4245, 'deploy': 1020, 'military': 2425, 'disrespectful': 1171, 'courtesy': 802, 'satisfied': 3408, 'artec': 189, 'professionel': 2895, 'potion': 2796, 'reply': 3214, 'serum': 3537, 'curly': 881, 'tend': 4181, 'rid': 3292, 'damp': 906, 'weather': 4807, 'somehow': 3765, 'double': 1231, 'ai': 66, 'fix': 1751, 'slightly': 3702, 'taller': 4129, 'textureline': 4213, 'controlgel': 744, 'barber': 309, 'shop': 3603, 'dick': 1075, 'curless': 880, 'provoke': 2943, 'tap': 4135, 'winter': 4875, 'racquet': 3017, 'suit': 4024, 'advanced': 46, 'powerful': 2806, 'ms': 2473, 'prefer': 2830, 'racquets': 3018, 'outfit': 2600, 'skater': 3680, 'skate': 3679, 'hello': 1951, 'skating': 3681, 'technique': 4159, 'stroke': 3967, 'spiral': 3836, 'leg': 2259, 'body': 417, 'split': 3840, 'muscle': 2481, 'vugames': 4739, 'crook': 846, 'interactive': 2108, 'worthwhile': 4928, 'stink': 3925, 'scream': 3469, 'ice': 2033, 'simplistic': 3649, 'strive': 3966, 'onto': 2579, 'enjoyment': 1451, 'low': 2332, 'worst': 4925, 'skippy': 3691, 'dud': 1291, 'somebody': 3763, 'thats': 4223, 'develope': 1057, 'coordination': 761, 'sake': 3379, 'seven': 3549, 'enjoys': 1452, 'windows': 4872, 'xp': 4957, 'frustration': 1815, 'crowd': 850, 'despite': 1039, 'freestyle': 1804, 'trick': 4414, 'learns': 2255, 'yesterday': 4975, 'confidence': 696, 'smoothly': 3729, 'la': 2222, 'rating': 3048, 'pity': 2707, 'delivery': 1000, 'mail': 2352, 'joy': 2181, 'rare': 3039, 'audi': 245, 'dose': 1229, 'quattro': 2991, 'enthusiast': 1469, 'fire': 1745, 'truck': 4434, 'pleased': 2725, 'horse': 2003, 'etch': 1511, 'somber': 3762, 'imagery': 2047, 'quietly': 3003, 'sunday': 4033, 'afternoon': 58, 'eforcity': 1367, 'disingenuous': 1155, 'supplier': 4047, 'nasty': 2501, 'feign': 1718, 'apartment': 130, 'switch': 4101, 'living': 2304, 'outlet': 2601, 'eight': 1371, 'plug': 2730, 'saver': 3417, 'tab': 4115, 'device': 1060, 'mystical': 2493, 'thinkman': 4252, 'thhis': 4241, 'luv': 2340, 'deduction': 959, 'souful': 3789, 'fixx': 1752, 'rupert': 3358, 'dr': 1243, 'legend': 2260, 'stranger': 3949, 'dream': 1264, 'surreal': 4073, 'symbolism': 4106, 'soph': 3781, 'auuuuur': 263, 'someday': 3764, 'whe': 4834, 'bbbbbuuuuuyyyy': 331, 'peace': 2660, 'shine': 3591, 'prmised': 2877, 'land': 2228, 'ecstasy': 1350, 'captivate': 508, 'lj': 2305, 'smith': 3723, 'ash': 202, 'teenage': 4166, 'beacuase': 336, 'sitiuations': 3670, 'humor': 2021, 'paranormal': 2635, 'disaster': 1126, 'area': 162, 'darkness': 917, 'hooked': 1994, 'loved': 2329, 'protect': 2934, 'questionare': 2999, 'vampyre': 4643, 'possibly': 2786, 'instantly': 2094, 'rowan': 3344, 'jade': 2153, 'kestrel': 2196, 'inspire': 2092, 'poetry': 2736, 'induces': 2074, 'respond': 3241, 'smithdescribed': 3724, 'especialy': 1500, 'vampire': 4642, 'vision': 4712, 'trilogy': 4421, 'thehuntress': 4226, 'wasprobably': 4784, 'awesomeanybody': 284, 'recommended': 3107, 'recognize': 3101, 'soulmate': 3793, 'befriend': 359, 'rogue': 3323, 'unrealistic': 4577, 'soulmates': 3794, 'slayer': 3696, 'tune': 4448, 'sofar': 3748, 'male': 2362, 'attraction': 242, 'witch': 4879, 'writng': 4947, 'speelbound': 3823, 'salem': 3381, 'witchcraft': 4880, 'wtich': 4950, 'cratures': 820, 'erasing': 1491, 'pen': 2665, 'square': 3857, 'locate': 2309, 'magazine': 2349, 'publication': 2950, 'mirror': 2436, 'fascinating': 1684, 'glimpse': 1860, 'nation': 2503, 'shortly': 3609, 'stuffy': 3983, 'hofstader': 1979, 'scholar': 3451, 'compel': 648, 'precious': 2822, 'examine': 1543, 'evolution': 1537, 'conclusion': 685, 'facts': 1642, 'vast': 4651, 'data': 920, 'readable': 3058, 'reflection': 3130, 'professor': 2896, 'regret': 3138, 'yout': 4984, 'obligation': 2558, 'wade': 4744, 'quagmire': 2987, 'redundantly': 3124, 'likely': 2283, 'wealth': 4802, 'decipher': 955, 'rediculously': 3118, 'awake': 278, 'witht': 4885, 'endlessly': 1429, 'stlye': 3928, 'pack': 2618, 'somewhat': 3771, 'useful': 4625, 'concentration': 678, 'richard': 3288, 'convince': 751, 'colonial': 621, 'writes': 4945, 'thouroughly': 4267, 'wide': 4854, 'perspective': 2684, 'kylie': 2221, 'subtlety': 4004, 'subtle': 4003, 'performer': 2675, 'purr': 2980, 'ballad': 299, 'nightmare': 2531, 'flow': 1766, 'catchy': 529, 'chorus': 574, 'melt': 2405, 'remixed': 3190, 'funky': 1822, 'remixes': 3191, 'emo': 1407, 'language': 2230, 'usa': 4621, 'wondeful': 4895, 'import': 2055, 'limited': 2287, 'thrown': 4280, 'border': 429, 'edit': 1353, 'cut': 894, 'arrangement': 180, 'rarity': 3041, 'tom': 4332, 'cosmos': 782, 'remix': 3189, 'woderful': 4892, 'cord': 768, 'thomas': 4258, 'naturally': 2506, 'related': 3149, 'ramble': 3026, 'involve': 2126, 'prattle': 2813, 'footage': 1778, 'meet': 2403, 'promotional': 2914, 'rent': 3200, 'extras': 1624, 'limit': 2286, 'kay': 2191, 'aside': 206, 'sodor': 3747, 'toward': 4363, 'interview': 2116, 'normal': 2541, 'solely': 3756, 'promo': 2912, 'center': 533, 'commercial': 636, 'introduction': 2119, 'pain': 2624, 'advice': 52, 'thinly': 4253, 'disguise': 1150, 'invariably': 2122, 'duplication': 1304, 'asleep': 209, 'unleashes': 4555, 'horrific': 2001, 'warrior': 4780, 'fanatic': 1671, 'warranty': 4779, 'purchased': 2968, 'equipment': 1488, 'surge': 4063, 'protector': 2936, 'printer': 2868, 'strip': 3965, 'docker': 1204, 'stretch': 3961, 'waist': 4745, 'tight': 4293, 'inch': 2064, 'earn': 1329, 'comfortable': 630, 'out': 2597, 'atkinson': 228, 'slack': 3694, 'waistband': 4746, 'stateting': 3897, 'avability': 264, 'usual': 4629, 'normally': 2542, 'shippment': 3595, 'postage': 2788, 'flimsy': 1762, 'dye': 1319, 'fabric': 1634, 'advertising': 50, 'shipping': 3594, 'cafe': 491, 'misleading': 2439, 'skinny': 3688, 'pricy': 2859, 'business': 481, 'chain': 541, 'retell': 3256, 'emphasis': 1413, 'suited': 4026, 'shy': 3621, 'disturb': 1191, 'arefrightening': 163, 'supposedto': 4054, 'retold': 3259, 'fairy': 1656, 'tale': 4122, 'wwii': 4952, 'glove': 1862, 'envelop': 1479, 'appropriate': 149, 'valuable': 4640, 'alternative': 91, 'schoolers': 3455, 'italy': 2145, 'vicarious': 4682, 'youth': 4985, 'confusion': 704, 'credibility': 830, 'sufficiently': 4020, 'rome': 3332, 'appreciation': 147, 'breadth': 452, 'depth': 1025, 'dish': 1152, 'interesting': 2111, 'capella': 503, 'food': 1775, 'relatively': 3154, 'detract': 1054, 'triad': 4410, 'bruno': 471, 'laura': 2243, 'tomasso': 4333, 'cyrano': 899, 'enhance': 1446, 'trifle': 4418, 'overdone': 2608, 'pun': 2960, 'kept': 2195, 'sweep': 4095, 'sensual': 3519, 'soul': 3791, 'devour': 1064, 'preparation': 2838, 'discover': 1136, 'magic': 2350, 'fable': 1633, 'cook': 754, 'stary': 3891, 'uhmmmm': 4479, 'nude': 2553, 'entertains': 1467, 'mandatory': 2366, 'chick': 563, 'lit': 2297, 'roman': 3326, 'market': 2375, 'curse': 885, 'stud': 3976, 'underdeveloped': 4505, 'cooking': 756, 'porn': 2766, 'desired': 1035, 'substatially': 4001, 'bath': 327, 'tip': 4310, 'insult': 2098, 'everywhere': 1532, 'vivid': 4724, 'predictible': 2828, 'recepies': 3091, 'superlatives': 4042, 'embraceable': 1403, 'jerk': 2165, 'portray': 2772, 'unaware': 4491, 'promiscuous': 2909, 'facet': 1637, 'substance': 3998, 'sexy': 3560, 'metaphor': 2415, 'virtual': 4707, 'occasionally': 2562, 'positively': 2778, 'crib': 833, 'swiftly': 4099, 'plane': 2712, 'suppose': 4052, 'generally': 1840, 'management': 2365, 'accounting': 22, 'report': 3215, 'bos': 434, 'advance': 45, 'analysis': 105, 'ability': 5, 'topic': 4342, 'elsewhere': 1394, 'cash': 522, 'tha': 4214, 'thang': 4217, 'existence': 1578, 'permanently': 2680, 'millionaire': 2429, 'repetitive': 3209, 'repeat': 3205, 'huh': 2017, 'yeah': 4968, 'sign': 3630, 'fad': 1644, 'gon': 1867, 'na': 2495, 'lil': 2284, 'alright': 88, 'rapper': 3037, 'tru': 4433, 'million': 2428, 'juvenile': 2188, 'fade': 1645, 'suck': 4010, 'as': 200, 'unoriginal': 4569, 'turk': 4451, 'da': 900, 'solo': 3759, 'quit': 3004, 'hatin': 1933, 'underrated': 4514, 'wayne': 4798, 'alien': 75, 'deffinetly': 970, 'starz': 3892, 'realer': 3064, 'warfare': 4772, 'degreez': 989, 'snoop': 3735, 'doggystyle': 1212, 'dre': 1261, 'dictionary': 1079, 'wack': 4743, 'belive': 376, 'wit': 4878, 'crap': 815, 'walk': 4752, 'untamed': 4597, 'crab': 809, 'pointless': 2739, 'definetely': 978, 'strong': 3968, 'tuesday': 4446, 'thursday': 4286, 'ridin': 3298, 'continuation': 731, 'iz': 2149, 'dissin': 1181, 'diss': 1172, 'em': 1398, 'dis': 1114, 'talklin': 4127, 'talkin': 4126, 'satin': 3406, 'shit': 3597, 'thta': 4284, 'sayin': 3424, 'bling': 409, 'ha': 1905, 'tymers': 4469, 'shot': 3610, 'tearin': 4155, 'logic': 2312, 'raise': 3024, 'responsible': 3244, 'worker': 4913, 'restaurant': 3247, 'antoine': 120, 'eaten': 1339, 'french': 1805, 'quarter': 2989, 'orleans': 2592, 'delightful': 996, 'parkinson': 2640, 'keyes': 2199, 'beauregard': 343, 'confederate': 693, 'zimbler': 4994, 'miller': 2427, 'unlimited': 4560, 'reserve': 3231, 'virginian': 4705, 'sun': 4032, 'brave': 450, 'tim': 4299, 'stash': 3893, 'dinner': 1104, 'privileged': 2876, 'sunny': 4035, 'beanie': 339, 'stuffed': 3981, 'wheel': 4835, 'lesson': 2266, 'desktop': 1037, 'powell': 2804, 'xml': 4956, 'thorough': 4261, 'comprehensive': 670, 'html': 2013, 'dhtml': 1065, 'cs': 863, 'web': 4808, 'smart': 3718, 'index': 2072, 'attribute': 244, 'expand': 1583, 'technology': 4162, 'website': 4809, 'creator': 829, 'examples': 1546, 'comparision': 644, 'server': 3539, 'immense': 2052, 'expert': 1592, 'printed': 2867, 'tweek': 4457, 'correctly': 777, 'arrival': 181, 'healthy': 1940, 'allergic': 78, 'solaray': 3753, 'vitamin': 4721, 'thoughtful': 4266, 'fiction': 1726, 'identity': 2036, 'teo': 4188, 'evoke': 1536, 'boundary': 441, 'cultural': 869, 'australia': 253, 'complain': 654, 'snes': 3732, 'portrayal': 2773, 'throat': 4275, 'spray': 3850, 'hurry': 2026, 'relieve': 3169, 'yo': 4978, 'sore': 3785, 'recommendation': 3106, 'mom': 2450, 'elbow': 1376, 'glider': 1859, 'sooner': 3777, 'bench': 382, 'metal': 2414, 'unsure': 4596, 'tighten': 4294, 'wasnt': 4783, 'bar': 308, 'weld': 4823, 'sturdy': 3987, 'front': 1812, 'assemble': 215, 'movement': 2470, 'blah': 406, 'compliment': 662, 'gauge': 1835, 'chair': 542, 'arm': 173, 'shipment': 3593, 'unwrap': 4606, 'drag': 1245, 'wet': 4827, 'patio': 2654, 'james': 2156, 'moody': 2457, 'awsome': 289, 'sample': 3387, 'consistantly': 712, 'ear': 1325, 'albums': 72, 'rush': 3359, 'eerie': 1360, 'signature': 3632, 'woburn': 4891, 'forgotten': 1787, 'untold': 4599, 'samuel': 3388, 'richardson': 3289, 'found': 1797, 'facinating': 1638, 'understanding': 4518, 'generation': 1841, 'united': 4548, 'jacob': 2152, 'jewish': 2167, 'worthy': 4929, 'unshackled': 4584, 'rabbi': 3009, 'kushner': 2220, 'element': 1383, 'thrust': 4282, 'zoo': 4998, 'truth': 4440, 'socialism': 3744, 'economics': 1346, 'broad': 463, 'variety': 4648, 'defined': 977, 'political': 2749, 'romanticism': 3331, 'tract': 4370, 'veers': 4656, 'aesthetic': 54, 'synthesize': 4111, 'unsuccessful': 4593, 'daydream': 928, 'wilde': 4864, 'shah': 3565, 'rukh': 3353, 'khan': 2201, 'rani': 3033, 'mukerji': 2477, 'marriage': 2378, 'prejudiced': 2836, 'marry': 2380, 'respectful': 3239, 'supportive': 4051, 'welcome': 4822, 'spouse': 3849, 'bollywood': 419, 'shahrukh': 3566, 'consist': 711, 'woos': 4905, 'married': 2379, 'excessive': 1556, 'portrays': 2774, 'argument': 167, 'watchable': 4790, 'cat': 526, 'angry': 111, 'yell': 4970, 'length': 2263, 'arrrrgh': 187, 'endure': 1430, 'praxis': 2814, 'test': 4207, 'discussion': 1144, 'discuss': 1143, 'outside': 2604, 'literature': 2300, 'answer': 118, 'excuse': 1569, 'kindle': 2209, 'entomb': 1474, 'wolverine': 4893, 'respectively': 3240, 'uprising': 4613, 'bye': 488, 'critter': 844, 'bound': 440, 'recieving': 3097, 'bass': 324, 'jordan': 2179, 'attitude': 239, 'whith': 4845, 'drum': 1281, 'sheila': 3584, 'unique': 4546, 'scat': 3441, 'singin': 3657, 'suggestion': 4023, 'acoustic': 25, 'accord': 20, 'knowledge': 2219, 'duo': 1302, 'recording': 3111, 'danelectro': 909, 'rocky': 3319, 'road': 3313, 'pedal': 2662, 'cheaply': 556, 'terrific': 4196, 'organ': 2589, 'leslie': 2264, 'mess': 2412, 'setting': 3546, 'burnt': 479, 'rubber': 3346, 'service': 3540, 'rivet': 3310, 'bookstore': 426, 'gothic': 1872, 'scarletti': 3437, 'supposedly': 4053, 'cursed': 886, 'impressive': 2062, 'fascinatin': 1683, 'entanglement': 1461, 'feehan': 1715, 'warn': 4776, 'christine': 577, 'giovanni': 1853, 'engine': 1439, 'quicker': 3001, 'darius': 915, 'carpathian': 518, 'nicoletta': 2527, 'village': 4695, 'exercise': 1572, 'select': 3504, 'mysterious': 2491, 'villager': 4696, 'similarity': 3642, 'sensuality': 3520, 'pounce': 2799, 'share': 3578, 'eager': 1322, 'presence': 2841, 'unlike': 4558, 'temper': 4174, 'tantrum': 4134, 'passion': 2648, 'empathy': 1412, 'sensitivity': 3518, 'potential': 2794, 'develop': 1056, 'relate': 3148, 'spark': 3808, 'desire': 1034, 'action': 28, 'suspenseful': 4083, 'protaganists': 2931, 'believable': 373, 'pound': 2800, 'storie': 3939, 'ick': 2034, 'submissive': 3993, 'wifey': 4860, 'paraphrase': 2636, 'stalk': 3873, 'tide': 4290, 'emma': 1406, 'upyr': 4617, 'scarlatti': 3434, 'reach': 3054, 'underdevelop': 4504, 'dimensional': 1097, 'feeling': 1717, 'enlarge': 1453, 'success': 4007, 'congratulation': 705, 'quessing': 2997, 'weird': 4821, 'relative': 3153, 'lively': 2303, 'strongly': 3969, 'tea': 4150, 'severely': 3553, 'confused': 702, 'camcorder': 496, 'usb': 4623, 'streaming': 3955, 'overseas': 2611, 'choppy': 573, 'recently': 3090, 'driver': 1276, 'stream': 3954, 'protection': 2935, 'accurate': 23, 'satified': 3405, 'barrel': 315, 'distortion': 1187, 'piano': 2697, 'homework': 1988, 'extremly': 1628, 'common': 639, 'teacher': 4152, 'lid': 2274, 'accidentally': 18, 'upon': 4610, 'alternate': 90, 'adjust': 39, 'distinguish': 1185, 'squeel': 3859, 'cruel': 856, 'unusual': 4601, 'patricia': 2655, 'cornwell': 772, 'boyfriend': 445, 'rksbabydoll': 3311, 'seat': 3488, 'collapse': 615, 'stuck': 3975, 'taut': 4145, 'thriller': 4274, 'evil': 1534, 'republican': 3221, 'criminal': 835, 'dump': 1301, 'whodunnit': 4849, 'evildoer': 1535, 'disappointing': 1122, 'scarpetta': 3438, 'cornwall': 771, 'writing': 4946, 'summary': 4030, 'virtually': 4708, 'trudge': 4435, 'excruciate': 1567, 'extraneous': 1623, 'closure': 607, 'disheartened': 1153, 'becomes': 350, 'stimulating': 3924, 'trite': 4428, 'frankly': 1801, 'turner': 4453, 'grip': 1892, 'unable': 4486, 'underlie': 4508, 'vacuous': 4635, 'offence': 2566, 'lost': 2322, 'cassette': 523, 'received': 3086, 'vouch': 4737, 'showed': 3615, 'envelope': 1480, 'disgruntle': 1149, 'prevent': 2854, 'sherry': 3588, 'shopper': 3604, 'forensic': 1782, 'police': 2747, 'procedural': 2883, 'row': 3343, 'execute': 1570, 'current': 882, 'particularly': 2643, 'niece': 2528, 'lucy': 2338, 'installment': 2093, 'potter': 2797, 'field': 1727, 'wanted': 4766, 'science': 3458, 'authenticity': 257, 'complicated': 661, 'muddle': 2475, 'disapoints': 1118, 'electric': 1379, 'flesh': 1761, 'commit': 638, 'redeem': 3115, 'workaholic': 4911, 'tendency': 4183, 'unresolved': 4579, 'villain': 4697, 'unimportant': 4540, 'flaw': 1758, 'spellbound': 3825, 'dorothy': 1227, 'sayers': 3423, 'displace': 1162, 'sat': 3403, 'wee': 4816, 'bed': 352, 'hardcover': 1926, 'prime': 2862, 'scatter': 3442, 'shallow': 3570, 'contain': 724, 'widely': 4855, 'dated': 922, 'paragraph': 2634, 'professionally': 2894, 'documentation': 1209, 'unclear': 4497, 'separated': 3524, 'usability': 4622, 'involved': 2127, 'soooooooooooo': 3780, 'excruciatingly': 1568, 'adam': 34, 'aristocrat': 171, 'unfunny': 4533, 'partner': 2644, 'earth': 1330, 'previously': 2856, 'spoilt': 3843, 'crudeness': 855, 'degrade': 987, 'zero': 4993, 'nope': 2540, 'studio': 3978, 'dl': 1201, 'wake': 4750, 'dramedy': 1254, 'sandler': 3391, 'tasked': 4142, 'apathetic': 131, 'viewer': 4692, 'climax': 604, 'comedian': 628, 'entirely': 1473, 'mann': 2368, 'bana': 302, 'happend': 1921, 'hill': 1968, 'eminem': 1405, 'snap': 3731, 'comic': 633, 'illness': 2042, 'destroys': 1044, 'lifestyle': 2277, 'beautifull': 345, 'unfocused': 4528, 'necessarily': 2511, 'runtime': 3357, 'doesnt': 1210, 'sadler': 3370, 'unlikable': 4557, 'george': 1845, 'simmons': 3644, 'experimental': 1591, 'drug': 1280, 'decides': 954, 'ira': 2129, 'wright': 4939, 'seth': 3544, 'rogen': 3321, 'convinces': 752, 'relationships': 3152, 'suddenly': 4015, 'lame': 2227, 'sexual': 3558, 'nudity': 2554, 'tweet': 4458, 'reputation': 3222, 'dramatic': 1253, 'supportingperformances': 4050, 'cold': 613, 'press': 2848, 'downhill': 1236, 'jim': 2169, 'moon': 2458, 'drift': 1271, 'oddly': 2565, 'draft': 1244, 'judd': 2182, 'theater': 4224, 'chuckle': 581, 'unnecessary': 4566, 'apatow': 132, 'ensemble': 1458, 'schtick': 3456, 'virgin': 4703, 'bee': 354, 'conversation': 747, 'acceptable': 16, 'anger': 110, 'hilarious': 1967, 'nicky': 2526, 'virigin': 4706, 'rented': 3202, 'humour': 2022, 'artsy': 198, 'spotlight': 3848, 'gilmore': 1852, 'skit': 3692, 'fart': 1680, 'suddenlink': 4014, 'demand': 1004, 'happens': 1922, 'vat': 4653, 'zonked': 4997, 'who': 4848, 'titanic': 4316, 'drawn': 1260, 'profanity': 2891, 'degenerate': 986, 'sewer': 3554, 'comprise': 673, 'intelligents': 2102, 'quentin': 2996, 'tarantino': 4137, 'fair': 1654, 'appeal': 135, 'vulgar': 4740, 'unnessisary': 4567, 'stoop': 3935, 'swear': 4089, 'lower': 2333, 'sexuality': 3559, 'altogether': 93, 'tragic': 4376, 'scott': 3464, 'wont': 4901, 'vand': 4644, 'collect': 616, 'depress': 1021, 'wayyyyyyyy': 4799, 'tackle': 4119, 'grandma': 1882, 'entertaining': 1465, 'moron': 2462, 'smile': 3722, 'demean': 1005, 'thy': 4288, 'elder': 1377, 'brook': 465, 'spartan': 3810, 'ppl': 2807, 'there': 4235, 'isnt': 2142, 'spent': 3827, 'thankful': 4219, 'excess': 1555, 'adultry': 44, 'sfar': 3562, 'delightfully': 997, 'sephardic': 3528, 'algeria': 74, 'endear': 1425, 'joann': 2171, 'jew': 2166, 'thirty': 4256, 'sardonic': 3400, 'phrase': 2694, 'stitch': 3927, 'musing': 2486, 'vital': 4720, 'artwork': 199, 'feast': 1705, 'dynamic': 1320, 'wane': 4764, 'artistically': 196, 'delt': 1002, 'exotic': 1581, 'whimsical': 4840, 'lovely': 2330, 'protagonist': 2932, 'narrator': 2499, 'sardonically': 3401, 'detour': 1053, 'depicts': 1018, 'richly': 3290, 'diverse': 1192, 'seek': 3500, 'preserve': 2845, 'tradition': 4373, 'social': 3743, 'environment': 1481, 'kindly': 2210, 'delf': 992, 'sin': 3652, 'whenever': 4836, 'ungodly': 4534, 'habit': 1906, 'judge': 2183, 'forever': 1783, 'account': 21, 'repentance': 3207, 'avoidance': 274, 'humanist': 2019, 'secular': 3495, 'atheist': 227, 'pagan': 2622, 'denigrate': 1012, 'religion': 3170, 'stereotypical': 3915, 'suitable': 4025, 'disrespect': 1170, 'vulgarity': 4741, 'dissenting': 1179, 'witness': 4886, 'sloan': 3708, 'jean': 2163, 'assassination': 214, 'president': 2846, 'fed': 1710, 'article': 192, 'lady': 2226, 'jfk': 2168, 'location': 2310, 'conspiracy': 716, 'stem': 3910, 'stern': 3916, 'wallet': 4754, 'ol': 2575, 'devolve': 1062, 'government': 1874, 'statement': 3895, 'unsupported': 4595, 'toole': 4340, 'uneducated': 4523, 'nonsense': 2539, 'physic': 2695, 'department': 1015, 'ramblings': 3027, 'sum': 4027, 'defy': 985, 'debunk': 944, 'evidence': 1533, 'sword': 4102, 'december': 948, 'recieved': 3096, 'wednesday': 4815, 'absolutly': 10, 'confident': 697, 'demon': 1008, 'deffiently': 969, 'unsharpened': 4585, 'stainless': 3870, 'steel': 3905, 'sharpening': 3580, 'wallhanger': 4756, 'coolest': 759, 'symbol': 4105, 'fraud': 1802, 'entiled': 1471, 'seventh': 3550, 'competion': 651, 'convert': 749, 'reminds': 3188, 'curve': 888, 'update': 4608, 'customer': 893, 'gap': 1831, 'scent': 3445, 'crush': 859, 'unsatisfying': 4582, 'disappoints': 1124, 'nicely': 2525, 'abruptly': 7, 'contractual': 734, 'slap': 3695, 'superhuman': 4040, 'villian': 4698, 'terminate': 4192, 'method': 2417, 'entriquing': 1476, 'possibility': 2783, 'genetic': 1842, 'gault': 1836, 'uncle': 4496, 'investigation': 2123, 'possibilites': 2782, 'formulaic': 1793, 'york': 4979, 'scarpetti': 3439, 'lucie': 2334, 'affair': 55, 'det': 1046, 'marino': 2373, 'honesty': 1991, 'displeasure': 1165, 'apparent': 133, 'suffer': 4018, 'protract': 2938, 'tripe': 4425, 'implausible': 2054, 'snob': 3734, 'understandable': 4517, 'astonish': 225, 'bestseller': 389, 'brain': 448, 'sixth': 3674, 'labor': 2224, 'bizarre': 404, 'suspicious': 4085, 'factual': 1643, 'integrity': 2099, 'pale': 2629, 'malamute': 2361, 'agency': 61, 'ignorant': 2037, 'regard': 3136, 'profile': 2897, 'twiddle': 4462, 'thumb': 4285, 'contrive': 742, 'meaningless': 2395, 'thatdefy': 4221, 'sympathetic': 4108, 'suspend': 4081, 'disbelief': 1128, 'conflict': 699, 'enforcement': 1437, 'haste': 1930, 'pile': 2701, 'remainder': 3177, 'table': 4116, 'scary': 3440, 'threaten': 4270, 'demeanor': 1006, 'emotionally': 1410, 'wildly': 4865, 'spoil': 3841, 'temple': 4177, 'satan': 3404, 'intelligence': 2100, 'medical': 2400, 'examiner': 1544, 'virginia': 4704, 'consult': 721, 'fbi': 1703, 'cunning': 873, 'whose': 4851, 'spree': 3851, 'richmond': 3291, 'resurface': 3254, 'transient': 4387, 'central': 534, 'park': 2639, 'priority': 2871, 'spun': 3854, 'terrifying': 4198, 'tunnel': 4449, 'suspensful': 4084, 'storyteller': 3943, 'possess': 2780, 'inevitable': 2075, 'showdown': 3614, 'crony': 845, 'sensantional': 3515, 'yank': 4961, 'doc': 1203, 'resturante': 3251, 'subway': 4005, 'vicariously': 4683, 'spontaneously': 3846, 'visa': 4710, 'engineer': 1440, 'stilted': 3923, 'hokey': 1980, 'tin': 4307, 'wizard': 4888, 'hollow': 1984, 'ring': 3301, 'profit': 2898, 'terror': 4200, 'terrify': 4197, 'killing': 2206, 'thompson': 4259, 'proven': 2940, 'dynamite': 1321, 'coroner': 773, 'progress': 2904, 'rekindle': 3147, 'undo': 4521, 'rectification': 3112, 'ross': 3336, 'tessa': 4206, 'diagnose': 1066, 'fatal': 1692, 'torn': 4348, 'thousand': 4268, 'shinchan': 3590, 'brow': 467, 'retain': 3255, 'vibration': 4681, 'objective': 2557, 'finding': 1739, 'display': 1163, 'exposition': 1607, 'principle': 2865, 'desert': 1030, 'sarcasm': 3398, 'afraid': 56, 'beac': 334, 'archaeology': 156, 'traveller': 4398, 'bank': 307, 'arab': 151, 'sabbath': 3365, 'quack': 2985, 'technologically': 4161, 'arabia': 152, 'port': 2767, 'arabian': 153, 'ark': 172, 'covenant': 804, 'giant': 1850, 'browse': 469, 'travelogue': 4399, 'teaser': 4156, 'archeological': 159, 'disappear': 1119, 'embarrassingly': 1402, 'superficial': 4038, 'scientific': 3459, 'lincoln': 2288, 'donald': 1216, 'belong': 379, 'explains': 1595, 'hazlitt': 1937, 'understood': 4520, 'views': 4693, 'economic': 1345, 'tinkering': 4308, 'myopic': 2490, 'intervention': 2115, 'working': 4914, 'voted': 4736, 'planning': 2714, 'erroneous': 1497, 'economy': 1349, 'capitalism': 504, 'fallacy': 1664, 'significantly': 3635, 'rand': 3030, 'stick': 3919, 'undress': 4522, 'dismal': 1158, 'serve': 3538, 'third': 4255, 'swing': 4100, 'conservative': 708, 'rant': 3035, 'tricked': 4415, 'relevant': 3162, 'crisis': 837, 'politician': 2750, 'classroom': 596, 'destructive': 1045, 'supplementary': 4046, 'division': 1196, 'undergraduate': 4506, 'emphasizes': 1415, 'spillover': 3832, 'externalities': 1617, 'depletable': 1019, 'undepletable': 4503, 'failure': 1651, 'scam': 3427, 'deceptive': 951, 'simplify': 3648, 'definition': 980, 'polemic': 2745, 'outdated': 2599, 'enormously': 1456, 'reflect': 3129, 'settle': 3547, 'presumably': 2850, 'keynesian': 2200, 'treatise': 4405, 'bastiat': 325, 'libertarian': 2271, 'broken': 464, 'mental': 2410, 'pro': 2878, 'damn': 905, 'fallacious': 1663, 'benefit': 384, 'unnoticed': 4568, 'union': 4545, 'tantamount': 4133, 'succinct': 4009, 'screed': 3470, 'rabid': 3011, 'amazingly': 98, 'university': 4552, 'productive': 2890, 'profitable': 2899, 'endeavor': 1426, 'crazy': 824, 'dork': 1226, 'wto': 4951, 'elucidate': 1395, 'rampant': 3029, 'congress': 706, 'county': 796, 'commission': 637, 'council': 789, 'majority': 2357, 'earful': 1326, 'cite': 587, 'valid': 4639, 'vote': 4735, 'education': 1358, 'pervasive': 2685, 'resultant': 3253, 'growth': 1897, 'revolutionary': 3280, 'elect': 1378, 'directly': 1109, 'avoided': 275, 'plague': 2709, 'dope': 1223, 'austrian': 255, 'schiff': 3448, 'crashproof': 818, 'von': 4734, 'credit': 831, 'rothbard': 3339, 'depression': 1022, 'prove': 2939, 'reqding': 3223, 'dispute': 1168, 'elementary': 1384, 'fellow': 1720, 'loss': 2321, 'senator': 3510, 'reps': 3220, 'heed': 1947, 'arcane': 155, 'fancy': 1674, 'unintended': 4542, 'consequence': 707, 'experiential': 1590, 'tremendous': 4409, 'debt': 943, 'subsidize': 3997, 'tax': 4146, 'expense': 1587, 'destroy': 1042, 'rhetoric': 3284, 'macro': 2347, 'necessary': 2512, 'taxpayer': 4148, 'measure': 2398, 'enemy': 1431, 'narration': 2497, 'conversational': 748, 'tedious': 4164, 'restate': 3246, 'donate': 1217, 'unsatisfactory': 4581, 'remedy': 3182, 'heilbroner': 1949, 'worldly': 4919, 'audible': 246, 'excessively': 1557, 'polemical': 2746, 'retitled': 3258, 'shortest': 3608, 'critique': 843, 'capitalist': 505, 'doctrine': 1207, 'hypocritical': 2032, 'popular': 2764, 'agenda': 62, 'rarely': 3040, 'arguement': 165, 'contrary': 738, 'veiws': 4661, 'salt': 3384, 'unpalatable': 4570, 'dos': 1228, 'taxation': 4147, 'reinforce': 3144, 'straightforward': 3945, 'regulation': 3141, 'programme': 2902, 'spuriously': 3855, 'dangerous': 912, 'unfettered': 4526, 'explode': 1600, 'myth': 2494, 'context': 729, 'unchecked': 4495, 'corporate': 775, 'scrutinize': 3477, 'trade': 4372, 'relinquish': 3173, 'astound': 226, 'anti': 119, 'preaches': 2818, 'limbaugh': 2285, 'avaiable': 265, 'net': 2520, 'et': 1509, 'relentlessly': 3160, 'fanatically': 1672, 'enslave': 1459, 'utopian': 4632, 'espouse': 1502, 'reactionary': 3056, 'rehash': 3142, 'plutocracy': 2734, 'worship': 4924, 'tout': 4362, 'basics': 322, 'fundamentally': 1821, 'enlighten': 1454, 'sanity': 3395, 'cumulatively': 872, 'silliness': 3638, 'spring': 3852, 'premise': 2837, 'prophetic': 2926, 'surprisingly': 4071, 'unseen': 4583, 'curb': 875, 'enthusiasm': 1468, 'diatribe': 1073, 'ron': 3333, 'laughable': 2241, 'economist': 1348, 'economincs': 1347, 'recession': 3094, 'disproves': 1167, 'skim': 3686, 'faulty': 1696, 'apparently': 134, 'spew': 3829, 'promote': 2913, 'tariff': 4139, 'argues': 166, 'sweater': 4091, 'duty': 1308, 'equation': 1487, 'analyze': 106, 'revenue': 3268, 'export': 1605, 'narrow': 2500, 'introductory': 2120, 'importantly': 2057, 'samuelson': 3389, 'recycle': 3113, 'pepper': 2669, 'concern': 680, 'hiphop': 1973, 'slug': 3715, 'euro': 1514, 'wan': 4760, 'goldfrapp': 1866, 'secretly': 3493, 'instrument': 2097, 'velvet': 4662, 'wonderous': 4900, 'techno': 4160, 'electronica': 1381, 'tire': 4312, 'dumb': 1299, 'barney': 314, 'wiggle': 4861, 'hottie': 2007, 'thereit': 4237, 'im': 2045, 'fanaticdelcious': 1673, 'stellar': 3909, 'invite': 2125, 'vary': 4650, 'musical': 2484, 'animate': 113, 'tmnt': 4318, 'punch': 2961, 'egbert': 1368, 'vegetation': 4658, 'ryukyu': 3364, 'torii': 4346, 'station': 3898, 'edith': 1354, 'kinship': 2211, 'transport': 4391, 'repose': 3216, 'fades': 1646, 'candid': 499, 'webtv': 4811, 'stan': 3875, 'definitly': 981, 'ergonomic': 1492, 'tripod': 4427, 'erna': 1495, 'anderson': 108, 'sixteen': 3673, 'alfreda': 73, 'poverty': 2802, 'sweden': 4093, 'karl': 2190, 'journey': 2180, 'seperated': 3527, 'sorrow': 3786, 'daniel': 913, 'deflaboxe': 983, 'depressive': 1023, 'reflexion': 3131, 'rver': 3363, 'wich': 4852, 'exclusive': 1566, 'concieves': 682, 'constant': 717, 'analogy': 104, 'quebec': 2994, 'nineteen': 2533, 'folktale': 1772, 'contribution': 741, 'possession': 2781, 'christian': 576, 'touchy': 4357, 'fudge': 1816, 'torso': 4350, 'cincher': 585, 'bone': 420, 'corsette': 781, 'chest': 562, 'wire': 4876, 'bra': 447, 'whereas': 4837, 'custom': 892, 'corset': 780, 'cloth': 608, 'squeem': 3861, 'shapewear': 3576, 'wetness': 4828, 'flatten': 1756, 'tshirts': 4443, 'wore': 4909, 'definaitely': 972, 'dtop': 1286, 'butt': 483, 'eureka': 1513, 'hardly': 1927, 'xl': 4954, 'vest': 4674, 'vintage': 4700, 'favour': 1700, 'cinchers': 586, 'expensive': 1588, 'slinky': 3706, 'clothes': 609, 'ripple': 3305, 'irritation': 2135, 'training': 4381, 'cinch': 584, 'comfortably': 631, 'rubbery': 3348, 'layer': 2246, 'measurement': 2399, 'fasten': 1689, 'privilege': 2875, 'enjoyed': 1450, 'posture': 2791, 'slim': 3703, 'ordered': 2588, 'associate': 221, 'slims': 3705, 'smoother': 3728, 'waistline': 4747, 'petite': 2689, 'reduce': 3120, 'clothing': 610, 'sweat': 4090, 'rash': 3042, 'wed': 4812, 'started': 3888, 'bust': 482, 'tighter': 4295, 'def': 966, 'sweaty': 4092, 'boobs': 423, 'dd': 930, 'coursette': 800, 'beige': 368, 'shaper': 3575, 'everyday': 1527, 'belly': 378, 'deffinitly': 971, 'pregnancy': 2833, 'crease': 825, 'sick': 3624, 'thicker': 4244, 'literally': 2298, 'rib': 3285, 'desk': 1036, 'reshape': 3232, 'xlarge': 4955, 'waaay': 4742, 'tired': 4313, 'zippered': 4996, 'unbearable': 4492, 'redistribute': 3119, 'bulge': 475, 'proportioned': 2927, 'arthropod': 190, 'curvy': 889, 'unnatural': 4563, 'advertize': 51, 'arrives': 183, 'streak': 3953, 'spare': 3807, 'waists': 4748, 'hourglass': 2009, 'bruise': 470, 'fold': 1770, 'trimmer': 4422, 'pesky': 2686, 'shirt': 3596, 'lift': 2278, 'upset': 4615, 'sizer': 3676, 'miracle': 2435, 'squeeze': 3862, 'eating': 1340, 'welts': 4825, 'prong': 2916, 'lbs': 2249, 'tummy': 4447, 'downfall': 1235, 'thou': 4263, 'exhaust': 1574, 'tank': 4131, 'irritated': 2134, 'tolerant': 4329, 'tall': 4128, 'tightness': 4296, 'recommed': 3104, 'unwanted': 4603, 'mid': 2421, 'inner': 2084, 'cotton': 787, 'pure': 2971, 'strapless': 3951, 'desperation': 1038, 'muffin': 2476, 'squeezed': 3863, 'tear': 4154, 'birth': 400, 'specifically': 3818, 'sleeveless': 3699, 'bulky': 476, 'racerback': 3013, 'speed': 3822, 'mislabeled': 2437, 'firm': 1746, 'surgery': 4064, 'unwearable': 4605, 'stomach': 3932, 'theres': 4238, 'discreet': 1138, 'underneath': 4511, 'breathe': 456, 'squeeled': 3860, 'bell': 377, 'tuck': 4445, 'exclaim': 1563, 'upright': 4612, 'reduced': 3121, 'snug': 3738, 'concentrate': 677, 'breast': 455, 'vertical': 4673, 'compress': 671, 'pregancy': 2832, 'slimmer': 3704, 'believer': 375, 'pregnant': 2834, 'pinch': 2704, 'unhook': 4537, 'pooch': 2756, 'fajas': 1660, 'shrank': 3616, 'ur': 4618, 'postpartum': 2790, 'smooths': 3730, 'downside': 1240, 'portion': 2771, 'sewn': 3555, 'lingerie': 2290, 'delivers': 999, 'reduces': 3122, 'sock': 3746, 'poke': 2741, 'specially': 3816, 'bend': 383, 'boning': 421, 'pronounce': 2918, 'aroun': 178, 'upper': 4611, 'eewww': 1361, 'defeat': 967, 'interior': 2112, 'bent': 385, 'repair': 3203, 'bind': 399, 'unreal': 4576, 'abdominal': 4, 'pulling': 2958, 'faint': 1652, 'dryer': 1285, 'diminish': 1099, 'exterior': 1616, 'wrinkle': 4941, 'ribs': 3286, 'tshirt': 4442, 'triangle': 4412, 'visible': 4711, 'armpit': 175, 'pink': 2705, 'dint': 1105, 'therapeutically': 4233, 'spine': 3834, 'severe': 3552, 'vanity': 4645, 'surpass': 4067, 'compensate': 649, 'suprise': 4056, 'suggested': 4022, 'abandon': 3, 'torture': 4351, 'asap': 201, 'comply': 663, 'wearing': 4806, 'ease': 1331, 'loop': 2318, 'flabby': 1753, 'worked': 4912, 'conform': 700, 'stretchy': 3962, 'daytime': 929, 'withoutfeeling': 4884, 'seams': 3483, 'eventually': 1522, 'sausage': 3414, 'visually': 4718, 'divide': 1193, 'sita': 3667, 'returning': 3262, 'easiness': 1334, 'daily': 903, 'thins': 4254, 'hug': 2015, 'ass': 212, 'rod': 3320, 'painfully': 2626, 'ultimately': 4482, 'wound': 4933, 'grandmother': 1883, 'encourage': 1423, 'regain': 3135, 'trainer': 4380, 'mislead': 2438, 'itchy': 2146, 'trap': 4392, 'diet': 1084, 'midsection': 2423, 'stays': 3902, 'seam': 3481, 'unstitched': 4588, 'unstitching': 4589, 'near': 2509, 'discomfort': 1133, 'steaming': 3904, 'diarrhea': 1071, 'evening': 1519, 'stab': 3865, 'havent': 1934, 'vthe': 4738, 'hence': 1954, 'spanx': 3806, 'exsactly': 1610, 'wider': 4856, 'squeeeeeze': 3858, 'reminder': 3187, 'ab': 2, 'strengthen': 3958, 'seamless': 3482, 'tanktops': 4132, 'occur': 2563, 'ardyss': 161, 'wearer': 4805, 'slight': 3701, 'sender': 3512, 'stamp': 3874, 'torned': 4349, 'swell': 4098, 'bleed': 407, 'beaten': 342, 'disease': 1146, 'smallit': 3717, 'terribly': 4195, 'gross': 1893, 'dug': 1293, 'surgical': 4065, 'returned': 3261, 'xs': 4958, 'eaight': 1324, 'rear': 3072, 'reviewed': 3272, 'sometime': 3769, 'pudge': 2953, 'marie': 2372, 'doll': 1214, 'covet': 807, 'crate': 819, 'barrell': 316, 'seemingly': 3502, 'silverware': 3640, 'diawasher': 1074, 'microwave': 2420, 'porcelain': 2765, 'german': 1847, 'pinscher': 2706, 'resent': 3230, 'upsetting': 4616, 'dragoon': 1249, 'jimmy': 2170, 'ponder': 2753, 'unwatchable': 4604, 'demonic': 1009, 'saying': 3425, 'scholarly': 3452, 'islam': 2137, 'islamic': 2138, 'arise': 170, 'dictate': 1077, 'unavoidably': 4490, 'distinct': 1184, 'delve': 1003, 'prosperity': 2930, 'formal': 1789, 'surley': 4066, 'apporpriate': 145, 'gold': 1865, 'bananas': 304, 'gorilla': 1870, 'prayed': 2815, 'overcome': 2607, 'vinyl': 4701, 'strut': 3974, 'rhapsody': 3283, 'cti': 864, 'higgins': 1962, 'transparent': 4390, 'danger': 911, 'publisher': 2952, 'dispose': 1166, 'disastrous': 1127, 'silencer': 3636, 'sean': 3484, 'dillion': 1095, 'terrorism': 4201, 'competition': 652, 'egoism': 1370, 'british': 462, 'entertainment': 1466, 'finishing': 1743, 'ridicule': 3295, 'slog': 3709, 'drags': 1250, 'dillon': 1096, 'bushmills': 480, 'villians': 4699, 'dozen': 1242, 'prod': 2885, 'expose': 1606, 'reliance': 3166, 'promising': 2911, 'arid': 168, 'capitalize': 506, 'smoke': 3725, 'champagne': 544, 'drank': 1255, 'condense': 690, 'proabably': 2879, 'ludlum': 2339, 'theyear': 4239, 'sequel': 3530, 'autopilot': 261, 'status': 3900, 'ths': 4283, 'aspire': 211, 'struggle': 3972, 'strangely': 3948, 'waltz': 4759, 'editor': 1357, 'potboiler': 2793, 'sophomoric': 3783, 'dialog': 1067, 'unbelievably': 4494, 'scout': 3465, 'puhleeze': 2956, 'exclamation': 1564, 'reaction': 3055, 'fellows': 1721, 'clancy': 590, 'gotten': 1873, 'rough': 3342, 'reall': 3068, 'seasoned': 3487, 'curiosity': 877, 'tension': 4187, 'executive': 1571, 'cliche': 600, 'drink': 1272, 'assassin': 213, 'whack': 4829, 'target': 4138, 'shoot': 3602, 'justification': 2187, 'wrestle': 4938, 'unrewarding': 4580, 'silent': 3637, 'fascination': 1685, 'din': 1102, 'savage': 3415, 'dirk': 1111, 'extension': 1613, 'craze': 823, 'savoy': 3418, 'strain': 3946, 'spy': 3856, 'contract': 733, 'needed': 2515, 'wasting': 4788, 'tended': 4182, 'samey': 3386, 'ferguson': 1725, 'yarn': 4964, 'board': 415, 'sicken': 3625, 'retire': 3257, 'cartoon': 520, 'pose': 2775, 'jacket': 2151, 'aviator': 271, 'dust': 1307, 'contradictory': 736, 'visualization': 4717, 'condensation': 689, 'screenplay': 3472, 'syllable': 4103, 'twaddle': 4455, 'shred': 3617, 'puerile': 2955, 'shall': 3569, 'uninspired': 4541, 'deadline': 934, 'critical': 841, 'eagle': 1323, 'rashid': 3043, 'dillin': 1094, 'sudden': 4013, 'dy': 1318, 'dora': 1224, 'explorer': 1604, 'reliablity': 3164, 'saga': 3376, 'precede': 2820, 'disenchant': 1148, 'terse': 4204, 'avoids': 276, 'nerve': 2519, 'irish': 2130, 'fails': 1650, 'endeavour': 1427, 'singleminded': 3660, 'behaviour': 366, 'hack': 1907, 'macnee': 2345, 'tranparent': 4383, 'quaff': 2986, 'enormous': 1455, 'whisky': 4841, 'stinker': 3926, 'schwartz': 3457, 'energizer': 1434, 'rabbit': 3010, 'steal': 3903, 'ballroom': 300, 'vegas': 4657, 'ellington': 1391, 'remains': 3178, 'survey': 4076, 'duke': 1295, 'destine': 1040, 'beyerl': 392, 'bibliography': 395, 'precise': 2823, 'association': 222, 'explaint': 1596, 'wonderfull': 4898, 'beagle': 337, 'rottie': 3341, 'scanner': 3431, 'vista': 4715, 'ez': 1631, 'scan': 3428, 'works': 4916, 'jane': 2158, 'hypatia': 2031, 'universe': 4551, 'copernicus': 763, 'scarlett': 3436, 'forced': 1781, 'scarlet': 3435, 'thorn': 4260, 'hawthorne': 1936, 'undeniable': 4502, 'underlying': 4510, 'relies': 3168, 'atlas': 229, 'shrug': 3619, 'huxley': 2030, 'vacation': 4634, 'unconventional': 4499, 'puritan': 2975, 'morality': 2460, 'unspeakable': 4586, 'punishes': 2964, 'confess': 694, 'physical': 2696, 'wrath': 4936, 'vicious': 4685, 'reccomend': 3082, 'auto': 260, 'dolby': 1213, 'surroundsound': 4075, 'allusion': 81, 'hester': 1959, 'prynne': 2946, 'dealt': 937, 'savvy': 3419, 'symbolize': 4107, 'copying': 766, 'unnecesary': 4564, 'convey': 750, 'overrate': 2610, 'dickens': 1076, 'boredom': 431, 'belongs': 380, 'excepted': 1551, 'prat': 2811, 'unforgiving': 4530, 'dialouge': 1069, 'provkitive': 2942, 'throughly': 4277, 'fahrenheit': 1648, 'huckleberry': 2014, 'finn': 1744, 'footnote': 1779, 'coral': 767, 'similes': 3643, 'deem': 961, 'digest': 1091, 'essence': 1504, 'navigate': 2508, 'ebook': 1342, 'nathaniel': 2502, 'strengths': 3959, 'weaknesses': 4801, 'prynn': 2945, 'vengeful': 4664, 'vivacious': 4722, 'cope': 762, 'ostracize': 2594, 'rigid': 3300, 'puritanical': 2976, 'psychological': 2947, 'ponderous': 2754, 'divorce': 1197, 'adultery': 43, 'punishment': 2965, 'dover': 1234, 'reprint': 3218, 'beginer': 362, 'eon': 1482, 'irritate': 2133, 'typos': 4475, 'prolix': 2906, 'confirm': 698, 'theraou': 4232, 'walden': 4751, 'tred': 4407, 'pretentious': 2852, 'era': 1490, 'applaud': 141, 'tenacity': 4180, 'hi': 1960, 'toughen': 4359, 'bc': 333, 'cc': 531, 'pls': 2729, 'assignment': 219, 'dread': 1262, 'comprehension': 669, 'aunt': 251, 'ugh': 4476, 'verbose': 4666, 'wordy': 4908, 'reverand': 3269, 'dimmesdale': 1100, 'duller': 1297, 'dirt': 1112, 'thisto': 4257, 'sympathize': 4109, 'empathize': 1411, 'evenless': 1520, 'samestory': 3385, 'tragedy': 4375, 'thatit': 4222, 'tragically': 4377, 'unnecessarily': 4565, 'effectively': 1364, 'reccommend': 3083, 'dificult': 1089, 'mainly': 2354, 'settler': 3548, 'pill': 2702, 'exceed': 1547, 'timely': 4305, 'extinct': 1619, 'revive': 3277, 'cliff': 602, 'robot': 3315, 'wasted': 4787, 'encompass': 1421, 'unpleasant': 4572, 'steinbeck': 3908, 'twain': 4456, 'austen': 252, 'indeed': 2071, 'chillingworth': 567, 'stray': 3952, 'beg': 360, 'completey': 658, 'taudry': 4144, 'unfamiliar': 4525, 'eloquent': 1392, 'religiosity': 3171, 'trajectory': 4382, 'cryptic': 861, 'appendix': 140, 'definatly': 975, 'suffers': 4019, 'stongly': 3934, 'dislike': 1157, 'webster': 4810, 'empty': 1418, 'wandering': 4762, 'overly': 2609, 'extravagant': 1625, 'summarily': 4028, 'prejudice': 2835, 'humanity': 2020, 'void': 4729, 'scandalous': 3430, 'receptive': 3093, 'gable': 1828, 'cynical': 898, 'vice': 4684, 'versa': 4669, 'transcription': 4385, 'textually': 4211, 'awhile': 287, 'specified': 3819, 'assign': 218, 'conceal': 676, 'diction': 1078, 'syntax': 4110, 'elevate': 1388, 'literary': 2299, 'revival': 3276, 'discriptive': 1141, 'unlying': 4561, 'rule': 3354, 'attenion': 236, 'delecacy': 991, 'shell': 3586, 'dissect': 1178, 'concusion': 687, 'rated': 3046, 'electronic': 1380, 'requirement': 3225, 'cheat': 557, 'preacher': 2817, 'schooler': 3454, 'column': 624, 'taboo': 4117, 'exploit': 1601, 'unthinkable': 4598, 'spirit': 3837, 'engross': 1445, 'brings': 461, 'flawless': 1759, 'superfluous': 4039, 'sift': 3628, 'enforce': 1436, 'scaffold': 3426, 'guilt': 1901, 'irony': 2131, 'receives': 3088, 'cumbersome': 871, 'exceptional': 1553, 'developmet': 1059, 'feed': 1712, 'yawn': 4966, 'childish': 566, 'classify': 595, 'existance': 1577, 'dribble': 1270, 'shadow': 3564, 'purity': 2978, 'belabor': 370, 'scorn': 3463, 'preachy': 2819, 'puritanism': 2977, 'ap': 128, 'summarizes': 4029, 'dost': 1230, 'armour': 174, 'sl': 3693, 'reclassify': 3100, 'avg': 270, 'underlined': 4509, 'hint': 1971, 'quote': 3008, 'thematic': 4228, 'rebellious': 3078, 'rewarding': 3282, 'isbn': 2136, 'appearence': 139, 'significant': 3634, 'revelation': 3265, 'reproduce': 3219, 'hawthorn': 1935, 'court': 801, 'crimson': 836, 'crusader': 858, 'unlikely': 4559, 'radioactive': 3021, 'spider': 3831, 'pow': 2803, 'zort': 4999, 'roger': 3322, 'remembered': 3184, 'exceptionally': 1554, 'surprising': 4070, 'strucutres': 3971, 'uninteresting': 4544, 'puritain': 2974, 'sucker': 4011, 'townspeople': 4367, 'ren': 3195, 'discription': 1140, 'tribulation': 4413, 'curriculum': 884, 'sophomore': 3782, 'turgid': 4450, 'degree': 988, 'widow': 4857, 'auido': 250, 'exam': 1542, 'consitutional': 715, 'slop': 3710, 'stake': 3871, 'afterwards': 59, 'torturous': 4352, 'vastly': 4652, 'reject': 3146, 'entrench': 1475, 'exposure': 1608, 'versus': 4672, 'refresh': 3132, 'skillfully': 3685, 'construct': 719, 'punish': 2962, 'sinner': 3664, 'punishers': 2963, 'ye': 4967, 'applicable': 142, 'serf': 3532, 'wanders': 4763, 'redemption': 3117, 'confession': 695, 'teenager': 4167, 'worddi': 4907, 'socety': 3742, 'overwritten': 2614, 'protagonists': 2933, 'sappy': 3397, 'victorian': 4687, 'underscore': 4515, 'sue': 4016, 'assertion': 217, 'concrete': 686, 'erika': 1494, 'vause': 4654, 'wrench': 4937, 'sprung': 3853, 'disscussed': 1177, 'smokescreen': 3726, 'unravle': 4575, 'okay': 2574, 'teens': 4168, 'rev': 3263, 'dimmsdale': 1101, 'voluntarily': 4732, 'reconsider': 3109, 'sux': 4087, 'quiz': 3007, 'slowly': 3714, 'youre': 4983, 'filth': 1734, 'lock': 2311, 'attic': 238, 'sandra': 3393, 'archaicly': 158, 'tempt': 4178, 'sacred': 3368, 'cliffnotes': 603, 'therapy': 4234, 'torment': 4347, 'reconciliation': 3108, 'prologue': 2907, 'spawn': 3811, 'untolerably': 4600, 'cure': 876, 'insomnia': 2090, 'ridiculously': 3297, 'entangle': 1460, 'dang': 910, 'gatsby': 1834, 'surprisngly': 4072, 'wast': 4785, 'rank': 3034, 'eighteeth': 1372, 'themarriage': 4227, 'tipical': 4311, 'readily': 3060, 'sept': 3529, 'luck': 2335, 'setences': 3543, 'salinger': 3382, 'twian': 4460, 'ashamed': 203, 'witchunts': 4881, 'lap': 2232, 'stress': 3960, 'thier': 4246, 'archaic': 157, 'convoluted': 753, 'detach': 1047, 'discus': 1142, 'barrier': 317, 'efficiently': 1365, 'priceless': 2858, 'attack': 233, 'dare': 914, 'portait': 2769, 'portayal': 2770, 'superstition': 4045, 'oppression': 2585, 'superior': 4041, 'arthur': 191, 'crucible': 853, 'bargian': 313, 'assist': 220, 'uniteresting': 4549, 'visual': 4716, 'demi': 1007, 'cristo': 838, 'deification': 990, 'bodily': 416, 'simplification': 3647, 'predictability': 2826, 'tolstoy': 4331, 'poetic': 2735, 'cram': 813, 'extend': 1611, 'distribute': 1190, 'determination': 1051, 'renew': 3199, 'pride': 2860, 'dignity': 1093, 'wander': 4761, 'reverend': 3270, 'whatesoever': 4831, 'relevancy': 3161, 'demoralize': 1011, 'snooze': 3736, 'favor': 1697, 'cowardice': 808, 'unfinishable': 4527, 'ruffle': 3351, 'feather': 1707, 'dreary': 1267, 'dreadful': 1263, 'strength': 3957, 'compose': 664, 'composition': 667, 'wedlock': 4814, 'determine': 1052, 'relates': 3150, 'prison': 2872, 'plumeria': 2731, 'lotion': 2324, 'consistency': 713, 'seattle': 3489, 'uneffected': 4524, 'rain': 3023, 'proof': 2920, 'arnold': 177, 'suprised': 4057, 'senior': 3514, 'dual': 1287, 'quixote': 3006, 'tomato': 4334, 'starke': 3884, 'wilbur': 4862, 'triolgy': 4423, 'monsturds': 2453, 'deception': 950, 'disciple': 1131, 'listing': 2296, 'substandard': 3999, 'worried': 4921, 'sooooo': 3779, 'sassy': 3402, 'suction': 4012, 'feeding': 1714, 'warms': 4775, 'dishwith': 1154, 'compartment': 645, 'disassemble': 1125, 'deems': 962, 'tray': 4401, 'divider': 1194, 'everyman': 1528, 'rackham': 3016, 'vietnam': 4690, 'cambodia': 495, 'siem': 3627, 'reap': 3071, 'pol': 2743, 'se': 3478, 'asia': 205, 'drastically': 1256, 'ethnographic': 1512, 'lao': 2231, 'august': 249, 'australian': 254, 'thailand': 4216, 'availability': 266, 'sloppy': 3711, 'yep': 4972, 'probe': 2881, 'voltage': 4730, 'externally': 1618, 'atrocious': 231, 'destroying': 1043, 'wouldnt': 4932, 'corperate': 774, 'scattological': 3443, 'sarcastic': 3399, 'disorder': 1161, 'holiday': 1983, 'carol': 517, 'grinch': 1890, 'potty': 2798, 'beavis': 348, 'eclipse': 1343, 'dissapointment': 1175, 'receipt': 3084, 'rude': 3350, 'postive': 2789, 'farther': 1681, 'reindeer': 3143, 'pooping': 2758, 'poop': 2757, 'deed': 960, 'whitey': 4844, 'repentence': 3208, 'entertaing': 1464, 'discount': 1134, 'rack': 3015, 'pretend': 2851, 'restriction': 3250, 'thrid': 4272, 'toiler': 4325, 'simpson': 3651, 'snl': 3733, 'vomit': 4733, 'spoliers': 3844, 'davey': 925, 'drunk': 1283, 'whitney': 4846, 'woody': 4904, 'crack': 810, 'elenaor': 1385, 'deer': 965, 'supposted': 4055, 'santa': 3396, 'lick': 2273, 'teeth': 4169, 'yup': 4990, 'extent': 1615, 'evericould': 1524, 'startit': 3890, 'distort': 1186, 'youngster': 4982, 'triple': 4426, 'shiznit': 3598, 'referee': 3127, 'elenore': 1386, 'poopsicles': 2759, 'billy': 398, 'madison': 2348, 'understatement': 4519, 'remotely': 3193, 'feces': 1709, 'appealing': 136, 'diehard': 1083, 'downright': 1239, 'protest': 2937, 'stargate': 3882, 'schmaltz': 3450, 'unleashed': 4554, 'signal': 3631, 'marketing': 2376, 'scrooge': 3476, 'sandlers': 3392, 'singular': 3662, 'terribe': 4193, 'resemblance': 3229, 'ecm': 1344, 'corea': 769, 'farrell': 1679, 'pulse': 2959, 'sax': 3421, 'storm': 3940, 'soprano': 3784, 'elvin': 1396, 'quartet': 2990, 'william': 4866, 'dave': 924, 'unparreled': 4571, 'disco': 1132, 'shut': 3620, 'duck': 1289, 'dragonout': 1248, 'scarf': 3433, 'expliotsdvd': 1599, 'dvdsthomas': 1315, 'dvdbetter': 1312, 'dvdon': 1313, 'dvdandcome': 1311, 'rail': 3022, 'dvdand': 1310, 'dvdto': 1316, 'countinued': 793, 'ho': 1978, 'arrr': 186, 'yer': 4973, 'sail': 3377, 'swashbuckling': 4088, 'illegible': 2041, 'fax': 1702, 'reasonable': 3074, 'elvis': 1397, 'stag': 3867, 'deborah': 942, 'walley': 4755, 'drummer': 1282, 'deusenberg': 1055, 'craptastic': 816, 'crop': 848, 'shove': 3611, 'spinout': 3835, 'shelley': 3587, 'fabares': 1632, 'diane': 1070, 'veteran': 4676, 'height': 1948, 'stardom': 3881, 'una': 4485, 'donna': 1218, 'reed': 3125, 'presley': 2847, 'sitcom': 3668, 'redeeming': 3116, 'spoiled': 3842, 'erotic': 1496, 'sleepwalk': 3698, 'contraption': 737, 'handspring': 1916, 'visor': 4714, 'stylus': 3989, 'properly': 2924, 'enclosed': 1420, 'expire': 1593, 'undamaged': 4501, 'assembly': 216, 'furniture': 1824, 'hutch': 2029, 'ebay': 1341, 'separately': 3525, 'shade': 3563, 'beeswax': 357, 'drawer': 1258, 'kidcraft': 2203, 'avalon': 268, 'cubby': 866, 'ding': 1103, 'hardware': 1928, 'knob': 2216, 'supersaver': 4044, 'expedite': 1586, 'rambunctious': 3028, 'yrs': 4988, 'popeye': 2763, 'wot': 4930, 'devotee': 1063, 'sceptical': 3446, 'posse': 2779, 'conduct': 692, 'sung': 4034, 'puts': 2983, 'shard': 3577, 'unicorn': 4538, 'crank': 814, 'grinder': 1891, 'wrist': 4942, 'exerciser': 1573, 'multilevel': 2478, 'sketchy': 3683, 'shoddy': 3600, 'empirically': 1416, 'jensen': 2164, 'doctorate': 1206, 'unproven': 4574, 'deadwood': 935, 'psychology': 2948, 'veritable': 4667, 'cottage': 786, 'replete': 3212, 'workshops': 4917, 'seminar': 3509, 'certification': 539, 'scientifically': 3460, 'enhances': 1447, 'considers': 710, 'survivalist': 4077, 'document': 1208, 'standpoint': 3878, 'fuzzy': 1827, 'speculation': 3821, 'queasy': 2993, 'precent': 2821, 'unacceptable': 4487, 'recapture': 3081, 'unfortunate': 4531, 'nostril': 2543, 'tissue': 4314, 'engorge': 1444}\n"
     ]
    }
   ],
   "source": [
    "print(Tfidf_vect.vocabulary_)"
   ]
  },
  {
   "cell_type": "code",
   "execution_count": 103,
   "metadata": {},
   "outputs": [
    {
     "name": "stdout",
     "output_type": "stream",
     "text": [
      "  (0, 87)\t0.1808238451603405\n",
      "  (0, 89)\t0.11560881699841377\n",
      "  (0, 424)\t0.1350002271046054\n",
      "  (0, 558)\t0.1747736855852887\n",
      "  (0, 698)\t0.2540326571758145\n",
      "  (0, 1086)\t0.15642090782184911\n",
      "  (0, 1087)\t0.15753865238934991\n",
      "  (0, 1356)\t0.36619197624266014\n",
      "  (0, 1779)\t0.22962971983732317\n",
      "  (0, 1936)\t0.13429011344434735\n",
      "  (0, 2133)\t0.22962971983732317\n",
      "  (0, 2268)\t0.13932812127066152\n",
      "  (0, 2281)\t0.08186304199692036\n",
      "  (0, 2524)\t0.14684721033698064\n",
      "  (0, 2641)\t0.1553375609089473\n",
      "  (0, 2906)\t0.2540326571758145\n",
      "  (0, 3057)\t0.1593640195421048\n",
      "  (0, 3435)\t0.15037074824679736\n",
      "  (0, 4473)\t0.4795157078506979\n",
      "  (0, 4475)\t0.2540326571758145\n",
      "  (0, 4838)\t0.19095197924836627\n",
      "  (0, 4931)\t0.08637557743123903\n",
      "  (0, 4943)\t0.10496671762641496\n",
      "  (1, 182)\t0.19650973579843553\n",
      "  (1, 208)\t0.19650973579843553\n",
      "  :\t:\n",
      "  (698, 4249)\t0.1389649164939423\n",
      "  (698, 4492)\t0.27101763602641227\n",
      "  (698, 4797)\t0.28056824138362735\n",
      "  (698, 4931)\t0.10194370668750809\n",
      "  (699, 234)\t0.17620148998541865\n",
      "  (699, 424)\t0.1375240578496235\n",
      "  (699, 495)\t0.48848025933441475\n",
      "  (699, 546)\t0.1667920125682299\n",
      "  (699, 794)\t0.18651896965270198\n",
      "  (699, 882)\t0.20483930828838923\n",
      "  (699, 1081)\t0.19764241971411986\n",
      "  (699, 1472)\t0.17445167108815\n",
      "  (699, 1684)\t0.23392264999992401\n",
      "  (699, 2081)\t0.16165981912965124\n",
      "  (699, 2184)\t0.24424012966720737\n",
      "  (699, 2474)\t0.10990818645941648\n",
      "  (699, 2708)\t0.14555859068851154\n",
      "  (699, 2743)\t0.2587818005229748\n",
      "  (699, 2792)\t0.23392264999992401\n",
      "  (699, 2967)\t0.1386402601995046\n",
      "  (699, 3236)\t0.20483930828838923\n",
      "  (699, 3494)\t0.18899334194391737\n",
      "  (699, 4424)\t0.20106064050846936\n",
      "  (699, 4624)\t0.2232877767644284\n",
      "  (699, 4713)\t0.23392264999992401\n"
     ]
    }
   ],
   "source": [
    "print(Train_X_Tfidf)"
   ]
  },
  {
   "cell_type": "markdown",
   "metadata": {},
   "source": [
    "##### STEP -7: Use the ML Algorithms"
   ]
  },
  {
   "cell_type": "code",
   "execution_count": 122,
   "metadata": {},
   "outputs": [
    {
     "name": "stdout",
     "output_type": "stream",
     "text": [
      "SVM Accuracy Score ->  80.0\n"
     ]
    }
   ],
   "source": [
    "# Classifier - Algorithm - SVM\n",
    "# fit the training dataset on the classifier\n",
    "SVM = svm.SVC(C=1.0, kernel='linear', degree=3, gamma='auto')\n",
    "SVM.fit(Train_X_Tfidf,y_train)\n",
    "# predict the labels on validation dataset\n",
    "predictions_SVM = SVM.predict(Test_X_Tfidf)\n",
    "# Use accuracy_score function to get the accuracy\n",
    "print(\"SVM Accuracy Score -> \",accuracy_score(predictions_SVM, y_test)*100)"
   ]
  },
  {
   "cell_type": "markdown",
   "metadata": {},
   "source": [
    "***STEP -8: Cross-validation***"
   ]
  },
  {
   "cell_type": "code",
   "execution_count": 124,
   "metadata": {},
   "outputs": [
    {
     "data": {
      "text/plain": [
       "array([0.72142857, 0.82142857, 0.71428571, 0.74285714, 0.77142857])"
      ]
     },
     "execution_count": 124,
     "metadata": {},
     "output_type": "execute_result"
    }
   ],
   "source": [
    "from sklearn.model_selection import cross_val_score\n",
    "cv_scores =cross_val_score(SVM, Train_X_Tfidf, y_train, cv=5)\n",
    "cv_scores"
   ]
  },
  {
   "cell_type": "markdown",
   "metadata": {},
   "source": [
    "## Trying out other classification models\n",
    "\n",
    "    - LinearSVC (faster SVM than SVC, but no kernel support)\n",
    "    - Trying different kernels using SVC\n",
    "    - SGDClassifier (Can handle large amounts of data, for 'online' model, out-of-core support.)\n",
    "    - Logistic Regression\n",
    "    - Desion Tree\n",
    "    - Random Forest\n",
    "    - Naive Bayes\n",
    "    - KNN"
   ]
  },
  {
   "cell_type": "markdown",
   "metadata": {},
   "source": [
    "### LinearSVC"
   ]
  },
  {
   "cell_type": "code",
   "execution_count": 32,
   "metadata": {},
   "outputs": [
    {
     "name": "stdout",
     "output_type": "stream",
     "text": [
      " Accuracy Score ->  80.0\n"
     ]
    },
    {
     "data": {
      "text/plain": [
       "array([0.72142857, 0.82142857, 0.71428571, 0.74285714, 0.77142857])"
      ]
     },
     "execution_count": 32,
     "metadata": {},
     "output_type": "execute_result"
    }
   ],
   "source": [
    "from sklearn.svm import LinearSVC\n",
    "\n",
    "linear_svc = LinearSVC(C=1, loss=\"hinge\") #use dual=False when n_samples>n_features\n",
    "linear_svc.fit(Train_X_Tfidf,y_train)\n",
    "\n",
    "predictions_lin = linear_svc.predict(Test_X_Tfidf)\n",
    "print(\" Accuracy Score -> \",accuracy_score(predictions_lin, y_test)*100)\n",
    "\n",
    "cv_scores =cross_val_score(linear_svc, Train_X_Tfidf, y_train, cv=5)\n",
    "cv_scores"
   ]
  },
  {
   "cell_type": "markdown",
   "metadata": {},
   "source": [
    "### switching out kernels"
   ]
  },
  {
   "cell_type": "code",
   "execution_count": 36,
   "metadata": {},
   "outputs": [
    {
     "name": "stdout",
     "output_type": "stream",
     "text": [
      " Accuracy Score ->  56.99999999999999\n"
     ]
    },
    {
     "data": {
      "text/plain": [
       "array([0.56428571, 0.56428571, 0.54285714, 0.53571429, 0.55      ])"
      ]
     },
     "execution_count": 36,
     "metadata": {},
     "output_type": "execute_result"
    }
   ],
   "source": [
    "poly = svm.SVC(kernel='poly')\n",
    "poly.fit(Train_X_Tfidf,y_train)\n",
    "\n",
    "predictions_poly = poly.predict(Test_X_Tfidf)\n",
    "print(\" Accuracy Score -> \",accuracy_score(predictions_poly, y_test)*100)\n",
    "\n",
    "cv_scores =cross_val_score(poly, Train_X_Tfidf, y_train, cv=5)\n",
    "cv_scores"
   ]
  },
  {
   "cell_type": "code",
   "execution_count": 37,
   "metadata": {},
   "outputs": [
    {
     "name": "stdout",
     "output_type": "stream",
     "text": [
      " Accuracy Score ->  78.66666666666666\n"
     ]
    },
    {
     "data": {
      "text/plain": [
       "array([0.77142857, 0.76428571, 0.72857143, 0.78571429, 0.77142857])"
      ]
     },
     "execution_count": 37,
     "metadata": {},
     "output_type": "execute_result"
    }
   ],
   "source": [
    "rbf = svm.SVC() #default is 'rbf'\n",
    "rbf.fit(Train_X_Tfidf,y_train)\n",
    "\n",
    "predictions_rbf = rbf.predict(Test_X_Tfidf)\n",
    "print(\" Accuracy Score -> \",accuracy_score(predictions_rbf, y_test)*100)\n",
    "\n",
    "cv_scores =cross_val_score(rbf, Train_X_Tfidf, y_train, cv=5)\n",
    "cv_scores"
   ]
  },
  {
   "cell_type": "code",
   "execution_count": 38,
   "metadata": {},
   "outputs": [
    {
     "name": "stdout",
     "output_type": "stream",
     "text": [
      " Accuracy Score ->  81.0\n"
     ]
    },
    {
     "data": {
      "text/plain": [
       "array([0.73571429, 0.8       , 0.70714286, 0.76428571, 0.78571429])"
      ]
     },
     "execution_count": 38,
     "metadata": {},
     "output_type": "execute_result"
    }
   ],
   "source": [
    "sig = svm.SVC(kernel='sigmoid')\n",
    "sig.fit(Train_X_Tfidf,y_train)\n",
    "\n",
    "predictions_sig = sig.predict(Test_X_Tfidf)\n",
    "print(\" Accuracy Score -> \",accuracy_score(predictions_sig, y_test)*100)\n",
    "\n",
    "cv_scores =cross_val_score(sig, Train_X_Tfidf, y_train, cv=5)\n",
    "cv_scores"
   ]
  },
  {
   "cell_type": "markdown",
   "metadata": {},
   "source": [
    "### SGDClassifier : Binary Classifier"
   ]
  },
  {
   "cell_type": "code",
   "execution_count": 10,
   "metadata": {},
   "outputs": [
    {
     "name": "stdout",
     "output_type": "stream",
     "text": [
      "SGD Accuracy Score ->  77.33333333333333\n"
     ]
    }
   ],
   "source": [
    "\"\"\"\n",
    "SGDClassifier(loss=\"hinge\",alpha=1/(m*C)). \n",
    "This applies regular Stochastic Gradient Descent to train a linear SVM classifier. It does not converge as fast as the LinearSVC class, but it\n",
    "can be useful to handle huge datasets that do not fit in memory (out-of-core training), or to handle online classification tasks.\n",
    "\n",
    "\"\"\"\n",
    "from sklearn.linear_model import SGDClassifier\n",
    "\n",
    "sgd_clf = SGDClassifier(max_iter=1000, tol=1e-3, random_state=42)\n",
    "sgd_clf.fit(Train_X_Tfidf,y_train)\n",
    "\n",
    "y_pred_sgd=sgd_clf.predict(Test_X_Tfidf)\n",
    "print(\"SGD Accuracy Score -> \",accuracy_score(y_pred_sgd, y_test)*100)\n",
    "\n",
    "from sklearn.model_selection import cross_val_score\n",
    "cv_scores =cross_val_score(sgd_clf, Train_X_Tfidf, y_train, cv=5)\n",
    "cv_scores"
   ]
  },
  {
   "cell_type": "markdown",
   "metadata": {},
   "source": [
    "### Logistic Regression"
   ]
  },
  {
   "cell_type": "code",
   "execution_count": 148,
   "metadata": {},
   "outputs": [
    {
     "name": "stdout",
     "output_type": "stream",
     "text": [
      " Accuracy Score ->  79.0\n"
     ]
    },
    {
     "data": {
      "text/plain": [
       "array([0.77142857, 0.77857143, 0.75      , 0.78571429, 0.77142857])"
      ]
     },
     "execution_count": 148,
     "metadata": {},
     "output_type": "execute_result"
    }
   ],
   "source": [
    "from sklearn.linear_model import LogisticRegression\n",
    "\n",
    "log_reg = LogisticRegression()\n",
    "log_reg.fit(Train_X_Tfidf,y_train)\n",
    "\n",
    "y_pred_lr=log_reg.predict(Test_X_Tfidf)\n",
    "print(\" Accuracy Score -> \",accuracy_score(y_pred_lr, y_test)*100)\n",
    "\n",
    "cv_scores =cross_val_score(log_reg, Train_X_Tfidf, y_train, cv=5)\n",
    "cv_scores"
   ]
  },
  {
   "cell_type": "code",
   "execution_count": 149,
   "metadata": {},
   "outputs": [
    {
     "name": "stdout",
     "output_type": "stream",
     "text": [
      "model = [[-0.11284912 -0.0775394   0.         ... -0.03577315  0.\n",
      "  -0.04145108]] @ features + [-0.08056113]\n",
      "\n",
      "First Instance:  ['book', 'incredibly', 'bore', 'one', 'boring', 'book', 'recommend', 'read', 'introduction', 'incredibly', 'long', 'incredibly', 'bore', 'also', 'really', 'sort', 'plot', 'would', 'make', 'book', 'ca', 'put', 'personally', 'fell', 'asleep', 'four', 'different', 'time', 'read', 'book', 'much', 'high', 'expectation', 'book', 'look', 'classic', 'read', 'would', 'recommend', 'count', 'monte', 'cristo', 'book']\n",
      "Actual label:  0\n",
      "\n",
      "Prediction for first instance:  [0]\n",
      "Prediction porbability for first instance:  [[0.67916059 0.32083941]]\n",
      "\n",
      "Another Instance:  ['far', 'good', 'worn', 'day', 'far', 'love', 'still', 'little', 'bit', 'tummy', 'birth', 'son', 'month', 'ago', 'really', 'hold', 'comfortable', 'think', 'show', 'clothes', 'highly', 'recommend']\n",
      "Actual label:  1\n",
      "\n",
      "Prediction for first instance:  [1]\n",
      "Prediction porbability for first instance:  [[0.28769767 0.71230233]]\n"
     ]
    }
   ],
   "source": [
    "print('model = {} @ features + {}'.format(log_reg.coef_,log_reg.intercept_))\n",
    "print(\"\\nFirst Instance: \",X_test.iloc[3])\n",
    "print(\"Actual label: \", y_test[3])\n",
    "print('\\nPrediction for first instance: ', log_reg.predict(Test_X_Tfidf[3]))\n",
    "print('Prediction porbability for first instance: ', log_reg.predict_proba(Test_X_Tfidf[3]))\n",
    "\n",
    "print(\"\\nAnother Instance: \",X_test.iloc[4])\n",
    "print(\"Actual label: \", y_test[4])\n",
    "print('\\nPrediction for first instance: ', log_reg.predict(Test_X_Tfidf[4]))\n",
    "print('Prediction porbability for first instance: ', log_reg.predict_proba(Test_X_Tfidf[4]))"
   ]
  },
  {
   "cell_type": "code",
   "execution_count": 150,
   "metadata": {},
   "outputs": [],
   "source": [
    "# Sort the coefficients of features in ascending and desceding order. \n",
    "# Extract the indexes of these features into inds_ascending and inds_descending\n",
    "inds_ascending = np.argsort(log_reg.coef_.flatten()) \n",
    "inds_descending = inds_ascending[::-1]"
   ]
  },
  {
   "cell_type": "code",
   "execution_count": 151,
   "metadata": {},
   "outputs": [
    {
     "name": "stdout",
     "output_type": "stream",
     "text": [
      "bad\n",
      "waste\n",
      "bore\n",
      "write\n",
      "poor\n",
      "thing\n",
      "hard\n",
      "higgins\n",
      "plot\n",
      "money\n"
     ]
    }
   ],
   "source": [
    "# find the words corresponding to lowest coefficients\n",
    "for i in range(10):\n",
    "    for key, value in Tfidf_vect.vocabulary_.items():\n",
    "        if value==inds_ascending[i]:\n",
    "            print(key)"
   ]
  },
  {
   "cell_type": "code",
   "execution_count": 152,
   "metadata": {},
   "outputs": [
    {
     "name": "stdout",
     "output_type": "stream",
     "text": [
      "love\n",
      "great\n",
      "best\n",
      "excellent\n",
      "wonderful\n",
      "easy\n",
      "good\n",
      "henry\n",
      "game\n",
      "recommend\n"
     ]
    }
   ],
   "source": [
    "# find the words corresponding to highest coefficients\n",
    "for i in range(10):\n",
    "    for key, value in Tfidf_vect.vocabulary_.items():\n",
    "        if value==inds_descending[i]:\n",
    "            print(key)"
   ]
  },
  {
   "cell_type": "markdown",
   "metadata": {},
   "source": [
    "### Logistic regression with L1 penalty"
   ]
  },
  {
   "cell_type": "code",
   "execution_count": 145,
   "metadata": {},
   "outputs": [
    {
     "name": "stdout",
     "output_type": "stream",
     "text": [
      " Accuracy Score ->  75.0\n"
     ]
    },
    {
     "data": {
      "text/plain": [
       "array([0.73571429, 0.71428571, 0.71428571, 0.71428571, 0.70714286])"
      ]
     },
     "execution_count": 145,
     "metadata": {},
     "output_type": "execute_result"
    }
   ],
   "source": [
    "from sklearn.linear_model import LogisticRegression\n",
    "log_reg = LogisticRegression(solver='liblinear',penalty='l1')\n",
    "log_reg.fit(Train_X_Tfidf,y_train)\n",
    "\n",
    "y_pred_lr=log_reg.predict(Test_X_Tfidf)\n",
    "print(\" Accuracy Score -> \",accuracy_score(y_pred_lr, y_test)*100)\n",
    "cv_scores =cross_val_score(log_reg, Train_X_Tfidf, y_train, cv=5)\n",
    "cv_scores"
   ]
  },
  {
   "cell_type": "code",
   "execution_count": 146,
   "metadata": {},
   "outputs": [],
   "source": [
    "# Sort the coefficients of features in ascending and desceding order. \n",
    "# Extract the indexes of these features into inds_ascending and inds_descending\n",
    "inds_ascending = np.argsort(log_reg.coef_.flatten()) \n",
    "inds_descending = inds_ascending[::-1]"
   ]
  },
  {
   "cell_type": "code",
   "execution_count": 147,
   "metadata": {},
   "outputs": [
    {
     "name": "stdout",
     "output_type": "stream",
     "text": [
      "bad\n",
      "waste\n",
      "bore\n",
      "plot\n",
      "poor\n",
      "write\n",
      "hard\n",
      "would\n",
      "say\n",
      "book\n"
     ]
    }
   ],
   "source": [
    "# find the words corresponding to lowest coefficients\n",
    "for i in range(10):\n",
    "    for key, value in Tfidf_vect.vocabulary_.items():\n",
    "        if value==inds_ascending[i]:\n",
    "            print(key)"
   ]
  },
  {
   "cell_type": "code",
   "execution_count": 153,
   "metadata": {},
   "outputs": [
    {
     "name": "stdout",
     "output_type": "stream",
     "text": [
      "love\n",
      "great\n",
      "best\n",
      "excellent\n",
      "wonderful\n",
      "easy\n",
      "good\n",
      "henry\n",
      "game\n",
      "recommend\n"
     ]
    }
   ],
   "source": [
    "# find the words corresponding to highest coefficients\n",
    "for i in range(10):\n",
    "    for key, value in Tfidf_vect.vocabulary_.items():\n",
    "        if value==inds_descending[i]:\n",
    "            print(key)"
   ]
  },
  {
   "cell_type": "markdown",
   "metadata": {},
   "source": [
    "### Decision tree, Random Forest"
   ]
  },
  {
   "cell_type": "code",
   "execution_count": 187,
   "metadata": {},
   "outputs": [
    {
     "name": "stdout",
     "output_type": "stream",
     "text": [
      "Accuracy Score ->  63.66666666666667\n"
     ]
    },
    {
     "data": {
      "text/plain": [
       "(array([0.67142857, 0.67142857, 0.6       , 0.51428571, 0.75      ]),\n",
       " 0.6414285714285713)"
      ]
     },
     "execution_count": 187,
     "metadata": {},
     "output_type": "execute_result"
    }
   ],
   "source": [
    "from sklearn.tree import DecisionTreeClassifier\n",
    "\n",
    "tree_clf = DecisionTreeClassifier(max_features='auto')\n",
    "tree_clf.fit(Train_X_Tfidf,y_train)\n",
    "\n",
    "y_pred=tree_clf.predict(Test_X_Tfidf)\n",
    "print(\"Accuracy Score -> \",accuracy_score(y_pred, y_test)*100)\n",
    "\n",
    "cv_scores =cross_val_score(tree_clf, Train_X_Tfidf, y_train, cv=5)\n",
    "cv_scores, cv_scores.mean()"
   ]
  },
  {
   "cell_type": "code",
   "execution_count": 182,
   "metadata": {},
   "outputs": [
    {
     "data": {
      "text/plain": [
       "(87, 274, 5000)"
      ]
     },
     "execution_count": 182,
     "metadata": {},
     "output_type": "execute_result"
    }
   ],
   "source": [
    "tree_clf.get_depth(),tree_clf.get_n_leaves(), tree_clf.n_features_"
   ]
  },
  {
   "cell_type": "code",
   "execution_count": 183,
   "metadata": {},
   "outputs": [],
   "source": [
    "inds_ascending=np.argsort(tree_clf.feature_importances_.flatten())\n",
    "inds_descending = inds_ascending[::-1]"
   ]
  },
  {
   "cell_type": "code",
   "execution_count": 184,
   "metadata": {},
   "outputs": [
    {
     "name": "stdout",
     "output_type": "stream",
     "text": [
      "aa\n",
      "rising\n",
      "rise\n",
      "ripple\n",
      "rip\n",
      "ringolsby\n",
      "ringer\n",
      "ring\n",
      "rigid\n",
      "right\n"
     ]
    }
   ],
   "source": [
    "# find the words corresponding to lowest coefficients\n",
    "for i in range(10):\n",
    "    for key, value in Tfidf_vect.vocabulary_.items():\n",
    "        if value==inds_ascending[i]:\n",
    "            print(key)"
   ]
  },
  {
   "cell_type": "code",
   "execution_count": 185,
   "metadata": {},
   "outputs": [
    {
     "name": "stdout",
     "output_type": "stream",
     "text": [
      "love\n",
      "say\n",
      "come\n",
      "like\n",
      "would\n",
      "book\n",
      "make\n",
      "good\n",
      "disappoint\n",
      "money\n",
      "read\n",
      "know\n",
      "daughter\n",
      "guess\n",
      "must\n",
      "never\n",
      "world\n",
      "write\n",
      "something\n",
      "hazlitt\n"
     ]
    }
   ],
   "source": [
    "# find the words corresponding to highest coefficients\n",
    "for i in range(20):\n",
    "    for key, value in Tfidf_vect.vocabulary_.items():\n",
    "        if value==inds_descending[i]:\n",
    "            print(key)"
   ]
  },
  {
   "cell_type": "code",
   "execution_count": 156,
   "metadata": {},
   "outputs": [
    {
     "name": "stdout",
     "output_type": "stream",
     "text": [
      "Accuracy Score ->  76.33333333333333\n"
     ]
    },
    {
     "data": {
      "text/plain": [
       "array([0.75      , 0.78571429, 0.72142857, 0.77857143, 0.77857143])"
      ]
     },
     "execution_count": 156,
     "metadata": {},
     "output_type": "execute_result"
    }
   ],
   "source": [
    "from sklearn.ensemble import RandomForestClassifier\n",
    "rf=RandomForestClassifier()\n",
    "rf.fit(Train_X_Tfidf,y_train)\n",
    "y_pred=rf.predict(Test_X_Tfidf)\n",
    "print(\"Accuracy Score -> \",accuracy_score(y_pred, y_test)*100)\n",
    "cv_scores =cross_val_score(rf, Train_X_Tfidf, y_train, cv=5)\n",
    "cv_scores"
   ]
  },
  {
   "cell_type": "markdown",
   "metadata": {},
   "source": [
    "### Naive Bays"
   ]
  },
  {
   "cell_type": "code",
   "execution_count": 157,
   "metadata": {},
   "outputs": [
    {
     "name": "stdout",
     "output_type": "stream",
     "text": [
      "Accuracy Score ->  60.66666666666667\n"
     ]
    },
    {
     "data": {
      "text/plain": [
       "array([0.64285714, 0.64285714, 0.63571429, 0.67142857, 0.67857143])"
      ]
     },
     "execution_count": 157,
     "metadata": {},
     "output_type": "execute_result"
    }
   ],
   "source": [
    "from sklearn.naive_bayes import GaussianNB\n",
    "\n",
    "gnb = GaussianNB()\n",
    "gnb.fit(Train_X_Tfidf.toarray(),y_train)\n",
    "\n",
    "y_pred=gnb.predict(Test_X_Tfidf.toarray())\n",
    "print(\"Accuracy Score -> \",accuracy_score(y_pred, y_test)*100)\n",
    "\n",
    "cv_scores =cross_val_score(gnb, Train_X_Tfidf.toarray(), y_train, cv=5)\n",
    "cv_scores"
   ]
  },
  {
   "cell_type": "markdown",
   "metadata": {},
   "source": [
    "### KNN"
   ]
  },
  {
   "cell_type": "markdown",
   "metadata": {},
   "source": [
    "### String kernels? "
   ]
  },
  {
   "cell_type": "markdown",
   "metadata": {},
   "source": [
    "### Parameter tuning for SVC"
   ]
  },
  {
   "cell_type": "code",
   "execution_count": null,
   "metadata": {},
   "outputs": [],
   "source": [
    "from sklearn.model_selection import GridSearchCV\n",
    "param_grid = dict(kernel = [‘linear’, ‘rbf’, ‘poly’], gamma = [0.1, 1, 10, 100], c = [0.1, 1, 10, 100, 1000], \n",
    "                  degree = [0, 1, 2, 3, 4, 5, 6])\n",
    "\n",
    "\n",
    "non.fit(Train_X_Tfidf,y_train)\n",
    "predictions_non = non.predict(Test_X_Tfidf)\n",
    "print(\" Accuracy Score -> \",accuracy_score(predictions_non, y_test)*100)\n",
    "cv_scores =cross_val_score(non, Train_X_Tfidf, y_train, cv=5)\n",
    "cv_scores\n",
    "\n",
    "svm=  svm.SVC()\n",
    "svm_cv = GridSearchCV(svm, param_grid, cv=5)\n",
    "svm_cv.fit(X, y)\n",
    "svm_cv.best_params_\n",
    "svm_cv.best_score\n",
    "\n",
    "_"
   ]
  }
 ],
 "metadata": {
  "kernelspec": {
   "display_name": "Python 3",
   "language": "python",
   "name": "python3"
  },
  "language_info": {
   "codemirror_mode": {
    "name": "ipython",
    "version": 3
   },
   "file_extension": ".py",
   "mimetype": "text/x-python",
   "name": "python",
   "nbconvert_exporter": "python",
   "pygments_lexer": "ipython3",
   "version": "3.7.4"
  },
  "toc": {
   "base_numbering": 1,
   "nav_menu": {},
   "number_sections": true,
   "sideBar": true,
   "skip_h1_title": false,
   "title_cell": "Table of Contents",
   "title_sidebar": "Contents",
   "toc_cell": false,
   "toc_position": {},
   "toc_section_display": true,
   "toc_window_display": false
  },
  "varInspector": {
   "cols": {
    "lenName": 16,
    "lenType": 16,
    "lenVar": 40
   },
   "kernels_config": {
    "python": {
     "delete_cmd_postfix": "",
     "delete_cmd_prefix": "del ",
     "library": "var_list.py",
     "varRefreshCmd": "print(var_dic_list())"
    },
    "r": {
     "delete_cmd_postfix": ") ",
     "delete_cmd_prefix": "rm(",
     "library": "var_list.r",
     "varRefreshCmd": "cat(var_dic_list()) "
    }
   },
   "types_to_exclude": [
    "module",
    "function",
    "builtin_function_or_method",
    "instance",
    "_Feature"
   ],
   "window_display": false
  }
 },
 "nbformat": 4,
 "nbformat_minor": 2
}
