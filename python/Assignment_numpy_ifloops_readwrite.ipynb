{
 "cells": [
  {
   "cell_type": "markdown",
   "metadata": {},
   "source": [
    "### Write a line of code that slices the first and last columns of A (given below), and stacks them into a 3x2 array. Make sure to print the results to verify your solution."
   ]
  },
  {
   "cell_type": "code",
   "execution_count": null,
   "metadata": {},
   "outputs": [],
   "source": [
    "import numpy as np\n",
    "A = np.array([[1,2,3], [4,5,6], [7, 8, 9]])\n",
    "print(np.hstack([A[:,:1], A[:,2:]]))"
   ]
  },
  {
   "cell_type": "markdown",
   "metadata": {},
   "source": [
    "### Write a loop using enumerate(cc) which computes the value y of any polynomial, given x and cc (given below)."
   ]
  },
  {
   "cell_type": "code",
   "execution_count": null,
   "metadata": {},
   "outputs": [],
   "source": [
    "x = 5\n",
    "cc = [2, 4, 3]\n",
    "y = 0\n",
    "for i, k in enumerate(cc):\n",
    "    y=y+(k*x**i)\n",
    "print(y)"
   ]
  },
  {
   "cell_type": "markdown",
   "metadata": {},
   "source": [
    "### Plot the difference between the average of the first dataset and the average of the second dataset, i.e. inflammation-01.csv and inflammation-02.csv"
   ]
  },
  {
   "cell_type": "code",
   "execution_count": null,
   "metadata": {},
   "outputs": [],
   "source": [
    "import matplotlib.pyplot as plt\n",
    "import numpy as np\n",
    "data1=np.loadtxt('C:/Users/orpit/Desktop/Lantern/Session 1/Files/python-novice-inflammation-data/data/inflammation-01.csv', delimiter=',')\n",
    "data2=np.loadtxt('C:/Users/orpit/Desktop/Lantern/Session 1/Files/python-novice-inflammation-data/data/inflammation-02.csv', delimiter=',')\n",
    "plt.plot(np.mean(data1, axis=0)- np.mean(data2, axis=0))"
   ]
  },
  {
   "cell_type": "markdown",
   "metadata": {},
   "source": [
    "### Array creation:                           \t \n",
    "\n",
    "* Create a 1d array with 3 single precision floating point numbers(4 bytes per number). Show that this array has indeed the correct data type.\n",
    "\n",
    "\n",
    "* Create an array with elements 0 to 500.\n",
    "\n",
    "\n",
    "* Print elements 3, 25, and 100 to 110 of the array you created in the previous questions. Note that the first element has index 0!\n",
    "\n",
    "\n",
    "* Create a 1d array of size 10 filled with random numbers between 0 and 1 (Use numpy.random.random)                   "
   ]
  },
  {
   "cell_type": "code",
   "execution_count": null,
   "metadata": {},
   "outputs": [],
   "source": [
    "matrix=np.array([[1.0,2.0,3.0]], dtype='float32')\n",
    "print(matrix.dtype)"
   ]
  },
  {
   "cell_type": "code",
   "execution_count": null,
   "metadata": {},
   "outputs": [],
   "source": [
    "import numpy as np\n",
    "B=[]\n",
    "for i in range(501):\n",
    "    B.append(i)\n",
    "B=np.array(B)\n",
    "print(B)"
   ]
  },
  {
   "cell_type": "code",
   "execution_count": null,
   "metadata": {},
   "outputs": [],
   "source": [
    "import numpy as np\n",
    "D=np.random.random(size=10)\n",
    "print(D)"
   ]
  },
  {
   "cell_type": "markdown",
   "metadata": {},
   "source": [
    "### Reading/writing files          \t \n",
    "* Calculate the mean of the second column and the variance of the third column. You may use \"numpy.mean\" and \"numpy.var\" \n",
    "\n",
    "\n",
    "* Repeat last part but instead of using print to display the mean and variance, write the result to a file called \"stats.txt\", using the format ”Mean[x] = ...” and ”Var[x] = ...” on the next line (use \"numpy.savetxt\")\n"
   ]
  },
  {
   "cell_type": "code",
   "execution_count": null,
   "metadata": {},
   "outputs": [],
   "source": [
    "import matplotlib.pyplot as plt\n",
    "import numpy as np\n",
    "data1=np.loadtxt('C:/Users/orpit/Desktop/Lantern/Session 1/Files/python-novice-inflammation-data/data/inflammation-01.csv', delimiter=',')\n",
    "mean=np.mean(data1[:,1])\n",
    "variance=np.var(data1[:,2])\n",
    "print(mean,variance)\n",
    "\n",
    "line1=np.array(['Mean[column2] is',mean])\n",
    "line2=np.array(['Variance[column2] is',variance])\n",
    "\n",
    "np.savetxt('C:/Users/orpit/Desktop/Lantern/Session 1/Files/python-novice-inflammation-data/data/stats.txt', (line1, line2), fmt='%s')"
   ]
  },
  {
   "cell_type": "markdown",
   "metadata": {},
   "source": [
    "### \"While\" statement : \n",
    "* For this problem, you need to learn about \"while\" statement. Google it and then solve this : Write a program that prompts the user to enter numbers (search how you can get an input within jupyter notebook !), one per line, ending with a line containing 0, and keep a running sum of the numbers. Only print out the sum after all the numbers are entered (at least in your final version). Do not create a list!  Each time you read in a number, you can immediately use it for your sum, and then be done with the number just entered.)"
   ]
  },
  {
   "cell_type": "code",
   "execution_count": null,
   "metadata": {},
   "outputs": [],
   "source": [
    "count=0\n",
    "nums=1\n",
    "while nums!=0:\n",
    "    nums=float(input('Enter a number: '))\n",
    "    count=count+nums\n",
    "print('The sum of numbers entered is ', count)"
   ]
  },
  {
   "cell_type": "markdown",
   "metadata": {},
   "source": [
    "### Palindrome : \n",
    "* A palindrome is a word that is spelled the same backward and forward, like “noon” and “redivider”. Recursively, a word is a palindrome if the first and last letters are the same and the middle is a palindrome. Write a code that takes a string and checks if it is a palindrome"
   ]
  },
  {
   "cell_type": "code",
   "execution_count": null,
   "metadata": {},
   "outputs": [],
   "source": [
    "word=input('Enter a word: ').lower()\n",
    "flag=False\n",
    "for i in range(len(word)//2):\n",
    "    if word[i]==word[-(i+1)]:\n",
    "        flag=True\n",
    "    else: \n",
    "        flag=False\n",
    "if flag==False: \n",
    "    print(\"The word isn't a palindrome.\")\n",
    "else:\n",
    "    print('The word is a palindrome!')"
   ]
  },
  {
   "cell_type": "markdown",
   "metadata": {},
   "source": [
    "\n"
   ]
  }
 ],
 "metadata": {
  "kernelspec": {
   "display_name": "Python 3",
   "language": "python",
   "name": "python3"
  },
  "language_info": {
   "codemirror_mode": {
    "name": "ipython",
    "version": 3
   },
   "file_extension": ".py",
   "mimetype": "text/x-python",
   "name": "python",
   "nbconvert_exporter": "python",
   "pygments_lexer": "ipython3",
   "version": "3.7.1"
  },
  "toc": {
   "base_numbering": 1,
   "nav_menu": {},
   "number_sections": true,
   "sideBar": true,
   "skip_h1_title": false,
   "title_cell": "Table of Contents",
   "title_sidebar": "Contents",
   "toc_cell": false,
   "toc_position": {},
   "toc_section_display": true,
   "toc_window_display": false
  }
 },
 "nbformat": 4,
 "nbformat_minor": 2
}
