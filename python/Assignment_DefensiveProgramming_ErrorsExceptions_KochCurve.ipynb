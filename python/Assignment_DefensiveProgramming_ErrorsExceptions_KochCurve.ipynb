{
 "cells": [
  {
   "cell_type": "markdown",
   "metadata": {},
   "source": [
    "## Sorting a List Into Buckets"
   ]
  },
  {
   "cell_type": "code",
   "execution_count": null,
   "metadata": {},
   "outputs": [],
   "source": [
    "files = ['inflammation-01.csv', 'myscript.py', 'inflammation-02.csv', 'small-01.csv', 'small-02.csv']\n",
    "large_files = []\n",
    "small_files = []\n",
    "other_files = []\n",
    "\n",
    "for name in files:\n",
    "    if name.startswith('small'):\n",
    "        small_files.append(name)\n",
    "    elif name.endswith('.py'):\n",
    "        other_files.append(name)\n",
    "    else:\n",
    "        large_files.append(name)\n",
    "\n",
    "print('large_files: ', large_files)\n",
    "print('small_files: ', small_files)\n",
    "print('other_files: ', other_files)"
   ]
  },
  {
   "cell_type": "markdown",
   "metadata": {},
   "source": [
    "## Fix range_overlap (given below). Re-run test_range_overlap(given below) after each change you make."
   ]
  },
  {
   "cell_type": "code",
   "execution_count": 1,
   "metadata": {},
   "outputs": [],
   "source": [
    "def range_overlap(ranges):\n",
    "    '''Return common overlap among a set of [low, high] ranges.'''\n",
    "    lowest = 0.0\n",
    "    highest = 1.0\n",
    "    for (low, high) in ranges:\n",
    "        lowest = max(lowest, low)\n",
    "        highest = min(highest, high)\n",
    "    return (lowest, highest)\n",
    "    \n",
    "def test_range_overlap():\n",
    "    assert range_overlap([ (0.0, 1.0), (5.0, 6.0) ]) == None\n",
    "    assert range_overlap([ (0.0, 1.0), (1.0, 2.0) ]) == None\n",
    "    assert range_overlap([ (0.0, 1.0) ]) == (0.0, 1.0)\n",
    "    assert range_overlap([ (2.0, 3.0), (2.0, 4.0) ]) == (2.0, 3.0)\n",
    "    assert range_overlap([ (0.0, 1.0), (0.0, 2.0), (-1.0, 1.0) ]) == (0.0, 1.0)"
   ]
  },
  {
   "cell_type": "code",
   "execution_count": null,
   "metadata": {},
   "outputs": [],
   "source": [
    "def range_overlap(ranges):\n",
    "    '''Return common overlap among a set of [low, high] ranges.'''\n",
    "    lowest=[]\n",
    "    highest=[]\n",
    "    for (low, high) in ranges:\n",
    "        lowest.append(low)\n",
    "        highest.append(high)\n",
    "    if max(lowest)<min(highest): \n",
    "        return(max(lowest), min(highest))\n",
    "    else:\n",
    "        return None\n",
    "    \n",
    "print(range_overlap([ (0.0, 1.0), (5.0, 6.0) ]) == None)\n",
    "print(range_overlap([ (0.0, 1.0), (1.0, 2.0) ]) == None)\n",
    "print(range_overlap([ (0.0, 1.0) ]) == (0.0, 1.0))\n",
    "print(range_overlap([ (2.0, 3.0), (2.0, 4.0) ]) == (2.0, 3.0))\n",
    "print(range_overlap([ (0.0, 1.0), (0.0, 2.0), (-1.0, 1.0) ]) == (0.0, 1.0))"
   ]
  },
  {
   "cell_type": "markdown",
   "metadata": {},
   "source": [
    "## Command-line problem"
   ]
  },
  {
   "cell_type": "code",
   "execution_count": null,
   "metadata": {},
   "outputs": [],
   "source": [
    "import sys\n",
    "import numpy\n",
    "\n",
    "def main():\n",
    "    script = sys.argv[0]\n",
    "    action = sys.argv[1]\n",
    "    if sys.argv[2:]==None:\n",
    "        filenames = sys.standin\n",
    "    else:\n",
    "        filenames = sys.argv[2:]\n",
    "\n",
    "    assert action not in ['--max','--mean','--min'], 'Supply appropriate action'\n",
    "    for f in filenames:\n",
    "        data = numpy.loadtxt(f, delimiter=',')\n",
    "        if action=='--max':\n",
    "            for m in numpy.maximum(data, axis=1):\n",
    "            print(m)\n",
    "        elif action='--mean':\n",
    "            for m in numpy.mean(data, axis=1):\n",
    "            print(m)\n",
    "        elif action='--min':\n",
    "            for m in numpy.minimum(data, axis=1):\n",
    "            print(m)\n",
    "\n",
    "if __name__ == '__main__':\n",
    "   main()"
   ]
  },
  {
   "cell_type": "markdown",
   "metadata": {},
   "source": [
    "## Restaurants Problem\n",
    "\n",
    "  - Two friends want to find a lunch spot and both of them have a list of favorite places ordered by decreasing preference. They agree that they will select the restaurant with the least combined rank in the 2 lists.\n",
    "\n",
    "    \tExample:\n",
    "\n",
    "    \tInput:'\n",
    "\n",
    "        \trestaurants_1: [‘El Farolito', 'Japa Curry', 'Eatsa']\n",
    "\n",
    "        \trestaurants_2: ['Japa Curry', 'Eatsa', 'Ayola', 'Working Girls']\n",
    "\n",
    "    \tOutput:\n",
    "\n",
    "        \t'Japa Curry'. Because it has the least combined rank  of 3\n",
    "\n",
    "        \t(2 in restaurants_1 and 1 in restaurants_2).\n",
    "\n",
    "   \t\n",
    "   - The selected restaurant should be in both the lists.The input provided will not have 2 restaurants with the same rank. So you don't have to factor that in.\n",
    "    \n",
    "    Friends will eat at 'yummy' if they can't reach a consensus.\n",
    "\n",
    "    \tInput:\n",
    "\n",
    "        \trestaurants_1: ['El Farolito', 'Japa Curry']\n",
    "\n",
    "        \trestaurants_2: ['Ayola', 'Working Girls']\n",
    "\n",
    "    \tOutput: \n",
    "\n",
    "        \t'yummy'\n"
   ]
  },
  {
   "cell_type": "code",
   "execution_count": null,
   "metadata": {},
   "outputs": [],
   "source": [
    "restaurants_1 =['El Farolito', 'Japa Curry', 'Eatsa', 'Ayola', 'Working Girls']\n",
    "restaurants_2 =['Japa Curry','Eatsa', 'Ayola', 'Working Girls','El Farolito']\n",
    "\n",
    "option1=input(\"Enter your choices from options 'El Farolito', 'Japa Curry', 'Eatsa', 'Ayola', 'Working Girls' , separated with a comma: \")\n",
    "option_list1=option1.split(', ')\n",
    "option2=input(\"Enter your choices from options 'El Farolito', 'Japa Curry', 'Eatsa', 'Ayola', 'Working Girls' , separated with a comma: \")\n",
    "option_list2=option2.split(', ')\n",
    "\n",
    "score=[]\n",
    "restaurant=[]\n",
    "intersection=list(set(option_list1) & set(option_list2))\n",
    "\n",
    "if len(intersection)==0:\n",
    "    print('yummy')\n",
    "else:\n",
    "    for i in intersection:\n",
    "        score.append(restaurants_1.index(i)+restaurants_2.index(i))\n",
    "        restaurant.append(i)\n",
    "        print(restaurant[score.index(min(score))], '. Because it has the least combined rank of ', min(score))"
   ]
  },
  {
   "cell_type": "markdown",
   "metadata": {},
   "source": [
    "## GCD\n",
    "\n",
    "    The greatest common divisor (GCD) of a and b is the largest number that divides both of them with no remainder.\n",
    "\n",
    "    One way to find the GCD of two numbers is based on the observation that if r is the remainder when a is divided by b, then gcd(a, b) = gcd(b, r). As a base case, we can use gcd(a, 0) = a.\n",
    "\n",
    "\tWrite a function called gcd that takes parameters a and b and returns their greatest common divisor.\n"
   ]
  },
  {
   "cell_type": "code",
   "execution_count": null,
   "metadata": {},
   "outputs": [],
   "source": [
    "def gcd(a,b):\n",
    "  \n",
    "    if (a == 0): \n",
    "        return b\n",
    "    if (b == 0): \n",
    "        return a \n",
    "    if (a == b): \n",
    "        return a \n",
    "    if a > b: \n",
    "        small = b \n",
    "    else: \n",
    "        small = a\n",
    "    for i in range(1, small+1): \n",
    "        if((a % i == 0) and (b % i == 0)): \n",
    "            result = i \n",
    "              \n",
    "    return result"
   ]
  },
  {
   "cell_type": "markdown",
   "metadata": {},
   "source": [
    "## Koch Curve\n",
    "\n",
    "    The Koch curve is a kind of a fractal.\n",
    "    \n",
    "    To draw a p; with length x, all you have to do is:\n",
    "\n",
    "        Draw a Koch curve with length x/3.\n",
    "        Turn left 60 degrees.\n",
    "        Draw a Koch curve with length x/3.\n",
    "        Turn right 120 degrees.\n",
    "        Draw a Koch curve with length x/3.\n",
    "        Turn left 60 degrees.\n",
    "        Draw a Koch curve with length x/3.\n",
    "        The exception is if x is less than 3: in that case, you can just draw a straight line with length x.\n"
   ]
  },
  {
   "cell_type": "code",
   "execution_count": null,
   "metadata": {},
   "outputs": [],
   "source": [
    "from turtle import *\n",
    "\n",
    "def snowflake(x, p): \n",
    "    if p == 0: \n",
    "        forward(x) \n",
    "        return\n",
    "    x = x/3.0\n",
    "    snowflake(x, p-1) \n",
    "    left(60) \n",
    "    snowflake(x, p-1) \n",
    "    right(120) \n",
    "    snowflake(x, p-1) \n",
    "    left(60) \n",
    "    snowflake(x, p-1) \n",
    "    \n",
    "snowflake(x=500, p=2)\n",
    "mainloop()"
   ]
  }
 ],
 "metadata": {
  "kernelspec": {
   "display_name": "Python 3",
   "language": "python",
   "name": "python3"
  },
  "language_info": {
   "codemirror_mode": {
    "name": "ipython",
    "version": 3
   },
   "file_extension": ".py",
   "mimetype": "text/x-python",
   "name": "python",
   "nbconvert_exporter": "python",
   "pygments_lexer": "ipython3",
   "version": "3.7.1"
  },
  "toc": {
   "base_numbering": 1,
   "nav_menu": {},
   "number_sections": true,
   "sideBar": true,
   "skip_h1_title": false,
   "title_cell": "Table of Contents",
   "title_sidebar": "Contents",
   "toc_cell": false,
   "toc_position": {},
   "toc_section_display": true,
   "toc_window_display": false
  }
 },
 "nbformat": 4,
 "nbformat_minor": 2
}
